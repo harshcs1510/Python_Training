{
 "cells": [
  {
   "cell_type": "code",
   "execution_count": null,
   "id": "9befc32f",
   "metadata": {},
   "outputs": [
    {
     "name": "stdout",
     "output_type": "stream",
     "text": [
      "division by zero\n",
      "6\n"
     ]
    }
   ],
   "source": [
    "try:\n",
    "    print(10/0)\n",
    "    #var=var1\n",
    "    n=int('hello')\n",
    "except ZeroDivisionError as e:\n",
    "    print(e)\n",
    "except NameError as e:\n",
    "    print(e)\n",
    "print(6)"
   ]
  },
  {
   "cell_type": "code",
   "execution_count": 6,
   "id": "975d7f11",
   "metadata": {},
   "outputs": [
    {
     "name": "stdout",
     "output_type": "stream",
     "text": [
      "[Errno 2] No such file or directory: 'copy.txt'\n"
     ]
    }
   ],
   "source": [
    "f=None\n",
    "try:\n",
    "    f=open('copy.txt')\n",
    "except FileNotFoundError as e:\n",
    "    print(e)\n",
    "finally:\n",
    "    if f:\n",
    "        f.close()\n"
   ]
  },
  {
   "cell_type": "code",
   "execution_count": 7,
   "id": "28cf0f4e",
   "metadata": {},
   "outputs": [
    {
     "name": "stdout",
     "output_type": "stream",
     "text": [
      "invalid literal for int() with base 10: 'hello'\n",
      "invalid literal for int() with base 10: 'hello'\n",
      "invalid literal for int() with base 10: 'hello'\n",
      "invalid literal for int() with base 10: 'hello'\n",
      "invalid literal for int() with base 10: 'hello'\n",
      "invalid literal for int() with base 10: 'hello'\n",
      "invalid literal for int() with base 10: 'hello'\n"
     ]
    }
   ],
   "source": [
    "import logging\n",
    "logging.basicConfig(filename='error.log',level=logging.ERROR)\n",
    "values=[10,5,6,0,9,8,2]\n",
    "\n",
    "for value in values:\n",
    "    try:\n",
    "        #print(10/value)\n",
    "        print(int('hello'))\n",
    "    except ValueError as e:\n",
    "        print(e)\n",
    "    except Exception as e: \n",
    "        logging.exception(e)"
   ]
  },
  {
   "cell_type": "code",
   "execution_count": 8,
   "id": "928b62b1",
   "metadata": {},
   "outputs": [
    {
     "name": "stdout",
     "output_type": "stream",
     "text": [
      "1.0\n",
      "2.0\n",
      "1.6666666666666667\n",
      "Value Error or ZeroDivision\n",
      "1.1111111111111112\n",
      "1.25\n",
      "Value Error or ZeroDivision\n",
      "5.0\n"
     ]
    }
   ],
   "source": [
    "values=[10,5,6,0,9,8,'Hello',2]\n",
    "\n",
    "for value in values:\n",
    "    try:\n",
    "        print(10/int(value))\n",
    "\n",
    "    except(ValueError,ZeroDivisionError) as e:\n",
    "        print('Value Error or ZeroDivision')\n",
    "    except Exception as e:\n",
    "        print(e)\n",
    "        "
   ]
  },
  {
   "cell_type": "code",
   "execution_count": 10,
   "id": "fcf9551b",
   "metadata": {},
   "outputs": [
    {
     "name": "stdout",
     "output_type": "stream",
     "text": [
      "Error: Index out of range\n",
      "hello\n"
     ]
    }
   ],
   "source": [
    "try:\n",
    "    my_list=[1,2,3]\n",
    "    print(my_list[3])\n",
    "except IndexError:\n",
    "    print('Error: Index out of range')\n",
    "print('hello')"
   ]
  },
  {
   "cell_type": "code",
   "execution_count": 15,
   "id": "f450eaef",
   "metadata": {},
   "outputs": [
    {
     "name": "stdout",
     "output_type": "stream",
     "text": [
      "2.0\n",
      "1.0\n",
      "0.6666666666666666\n",
      "0.5\n",
      "error <class 'TypeError'>\n",
      "0.2222222222222222\n",
      "error <class 'ZeroDivisionError'>\n"
     ]
    }
   ],
   "source": [
    "import sys\n",
    "a=[1,2,3,4,'s',9,0]\n",
    "for i in a:\n",
    "    try:\n",
    "        c=2/i\n",
    "        print(c)\n",
    "    except:\n",
    "        print('error',sys.exc_info()[0])"
   ]
  },
  {
   "cell_type": "code",
   "execution_count": null,
   "id": "a2960b06",
   "metadata": {},
   "outputs": [
    {
     "name": "stdout",
     "output_type": "stream",
     "text": [
      "5.0\n",
      "error\n"
     ]
    }
   ],
   "source": [
    "try:\n",
    "    print(10/2)\n",
    "    raise ValueError  #--> manually trigger errors\n",
    "except:\n",
    "    print('error')\n",
    "else:\n",
    "    print('Hello')"
   ]
  },
  {
   "cell_type": "code",
   "execution_count": 17,
   "id": "3c821f9f",
   "metadata": {},
   "outputs": [
    {
     "name": "stdout",
     "output_type": "stream",
     "text": [
      "n should be positive\n"
     ]
    }
   ],
   "source": [
    "n=-5\n",
    "try:\n",
    "    if n<0:\n",
    "        raise ValueError('n should be +pos')\n",
    "except ValueError:\n",
    "    print('n should be positive')\n"
   ]
  },
  {
   "cell_type": "code",
   "execution_count": 18,
   "id": "5c8c77c9",
   "metadata": {},
   "outputs": [
    {
     "name": "stdout",
     "output_type": "stream",
     "text": [
      "Caught: Index out of range\n"
     ]
    }
   ],
   "source": [
    "def get_item(lst,index):\n",
    "    if index>=len(lst):\n",
    "        raise IndexError(\"Index out of range\")\n",
    "    return lst[index]\n",
    "\n",
    "try:\n",
    "    print(get_item([10,20,30],5))\n",
    "except IndexError as e:\n",
    "    print(\"Caught:\",e)"
   ]
  },
  {
   "cell_type": "code",
   "execution_count": 19,
   "id": "c0152ff7",
   "metadata": {},
   "outputs": [
    {
     "name": "stdout",
     "output_type": "stream",
     "text": [
      "Error: Both arguments must be numbers\n"
     ]
    }
   ],
   "source": [
    "def multiply(a,b):\n",
    "    if not isinstance(a,(int,float)) or not isinstance(b,(int,float)):\n",
    "        raise TypeError(\"Both arguments must be numbers\")\n",
    "    return a*b\n",
    "\n",
    "try:\n",
    "    result=multiply(3,\"four\")\n",
    "except TypeError as e:\n",
    "    print(\"Error:\",e)\n"
   ]
  },
  {
   "cell_type": "code",
   "execution_count": 20,
   "id": "94d168e0",
   "metadata": {},
   "outputs": [
    {
     "name": "stdout",
     "output_type": "stream",
     "text": [
      "Caught: Invalid score: -5\n"
     ]
    }
   ],
   "source": [
    "def check_scores(scores):\n",
    "    for score in scores:\n",
    "        if score<0 or score>100:\n",
    "            raise ValueError(f\"Invalid score: {score}\")\n",
    "    return \"All scores are valid\"\n",
    "\n",
    "try:\n",
    "    check_scores([85,98,-5,100])\n",
    "except ValueError as e:\n",
    "    print(\"Caught:\",e)"
   ]
  },
  {
   "cell_type": "code",
   "execution_count": 21,
   "id": "18b8aed9",
   "metadata": {},
   "outputs": [
    {
     "name": "stdout",
     "output_type": "stream",
     "text": [
      "1.0\n",
      "2.0\n",
      "1.6666666666666667\n",
      "1.1111111111111112\n",
      "1.25\n",
      "hello world\n"
     ]
    },
    {
     "ename": "ValueError",
     "evalue": "Value Error",
     "output_type": "error",
     "traceback": [
      "\u001b[1;31m---------------------------------------------------------------------------\u001b[0m",
      "\u001b[1;31mValueError\u001b[0m                                Traceback (most recent call last)",
      "Cell \u001b[1;32mIn[21], line 5\u001b[0m\n\u001b[0;32m      4\u001b[0m \u001b[38;5;28;01mtry\u001b[39;00m:\n\u001b[1;32m----> 5\u001b[0m     \u001b[38;5;28mprint\u001b[39m(\u001b[38;5;241m10\u001b[39m\u001b[38;5;241m/\u001b[39m\u001b[38;5;28mint\u001b[39m(value))\n\u001b[0;32m      6\u001b[0m \u001b[38;5;28;01mexcept\u001b[39;00m \u001b[38;5;167;01mZeroDivisionError\u001b[39;00m \u001b[38;5;28;01mas\u001b[39;00m e:\n",
      "\u001b[1;31mValueError\u001b[0m: invalid literal for int() with base 10: 'Hello'",
      "\nDuring handling of the above exception, another exception occurred:\n",
      "\u001b[1;31mValueError\u001b[0m                                Traceback (most recent call last)",
      "Cell \u001b[1;32mIn[21], line 10\u001b[0m\n\u001b[0;32m      8\u001b[0m \u001b[38;5;28;01mexcept\u001b[39;00m \u001b[38;5;167;01mValueError\u001b[39;00m \u001b[38;5;28;01mas\u001b[39;00m e:\n\u001b[0;32m      9\u001b[0m     \u001b[38;5;28mprint\u001b[39m(\u001b[38;5;124m'\u001b[39m\u001b[38;5;124mhello world\u001b[39m\u001b[38;5;124m'\u001b[39m)\n\u001b[1;32m---> 10\u001b[0m     \u001b[38;5;28;01mraise\u001b[39;00m \u001b[38;5;167;01mValueError\u001b[39;00m(\u001b[38;5;124m'\u001b[39m\u001b[38;5;124mValue Error\u001b[39m\u001b[38;5;124m'\u001b[39m) \u001b[38;5;66;03m#reraise-exception\u001b[39;00m\n\u001b[0;32m     11\u001b[0m \u001b[38;5;28;01mexcept\u001b[39;00m \u001b[38;5;167;01mException\u001b[39;00m \u001b[38;5;28;01mas\u001b[39;00m e:\n\u001b[0;32m     12\u001b[0m     \u001b[38;5;28mprint\u001b[39m(e)\n",
      "\u001b[1;31mValueError\u001b[0m: Value Error"
     ]
    }
   ],
   "source": [
    "values=[10,5,6,0,9,8,'Hello',2]\n",
    "\n",
    "for value in values:\n",
    "    try:\n",
    "        print(10/int(value))\n",
    "    except ZeroDivisionError as e:\n",
    "        pass\n",
    "    except ValueError as e:\n",
    "        print('hello world')\n",
    "        raise ValueError('Value Error') #reraise-exception\n",
    "    except Exception as e:\n",
    "        print(e)"
   ]
  },
  {
   "cell_type": "code",
   "execution_count": 23,
   "id": "df87187d",
   "metadata": {},
   "outputs": [
    {
     "name": "stdout",
     "output_type": "stream",
     "text": [
      "Try Outside\n",
      "Try Inside\n",
      "Except Inside\n",
      "finally inside\n",
      "finally Outside\n"
     ]
    }
   ],
   "source": [
    "#Nested Exception\n",
    "\n",
    "try:\n",
    "    print('Try Outside')\n",
    "    try:\n",
    "        print('Try Inside')\n",
    "        print(10/0)\n",
    "    except:\n",
    "        print('Except Inside')\n",
    "    finally:\n",
    "        print('finally inside')\n",
    "except:\n",
    "    print('Except Outside')\n",
    "finally:\n",
    "    print('finally Outside')"
   ]
  },
  {
   "cell_type": "code",
   "execution_count": null,
   "id": "3d1169f6",
   "metadata": {},
   "outputs": [
    {
     "name": "stdout",
     "output_type": "stream",
     "text": [
      "Try Outside\n",
      "Try Inside\n",
      "finally inside\n",
      "Except Outside\n",
      "finally Outside\n"
     ]
    }
   ],
   "source": [
    "#Nested Exception\n",
    "\n",
    "try:\n",
    "    print('Try Outside')\n",
    "    try:\n",
    "        print('Try Inside')\n",
    "        print(10/0)\n",
    "    finally:\n",
    "        print('finally inside') \n",
    "except:\n",
    "    print('Except Outside') #triggered because entire try block becomes error\n",
    "finally:\n",
    "    print('finally Outside')"
   ]
  },
  {
   "cell_type": "code",
   "execution_count": 26,
   "id": "395b3293",
   "metadata": {},
   "outputs": [
    {
     "name": "stdout",
     "output_type": "stream",
     "text": [
      "Caught CustomError: Number must be positive\n"
     ]
    }
   ],
   "source": [
    "#user defined exception\n",
    "\n",
    "#define custom exception inherited from Exception\n",
    "\n",
    "class CustomError(Exception):\n",
    "    pass\n",
    "\n",
    "#use it in a function or logic\n",
    "def check_positive(number):\n",
    "    if number<0:\n",
    "        raise CustomError(\"Number must be positive\")\n",
    "    else:\n",
    "        print(\"Valid number:\",number)\n",
    "\n",
    "#handle it\n",
    "try:\n",
    "    num=int(input(\"Enter a number: \"))\n",
    "    check_positive(num)\n",
    "except CustomError as e:\n",
    "    print(\"Caught CustomError:\", e)"
   ]
  },
  {
   "cell_type": "code",
   "execution_count": 27,
   "id": "44056b78",
   "metadata": {},
   "outputs": [
    {
     "ename": "Exception",
     "evalue": "Outer",
     "output_type": "error",
     "traceback": [
      "\u001b[1;31m---------------------------------------------------------------------------\u001b[0m",
      "\u001b[1;31mException\u001b[0m                                 Traceback (most recent call last)",
      "Cell \u001b[1;32mIn[27], line 2\u001b[0m\n\u001b[0;32m      1\u001b[0m \u001b[38;5;28;01mtry\u001b[39;00m:\n\u001b[1;32m----> 2\u001b[0m     \u001b[38;5;28;01mraise\u001b[39;00m \u001b[38;5;167;01mException\u001b[39;00m(\u001b[38;5;124m\"\u001b[39m\u001b[38;5;124mOuter\u001b[39m\u001b[38;5;124m\"\u001b[39m)\n\u001b[0;32m      3\u001b[0m \u001b[38;5;28;01mexcept\u001b[39;00m \u001b[38;5;167;01mException\u001b[39;00m \u001b[38;5;28;01mas\u001b[39;00m e:\n\u001b[0;32m      4\u001b[0m     \u001b[38;5;28;01mtry\u001b[39;00m:\n",
      "\u001b[1;31mException\u001b[0m: Outer"
     ]
    }
   ],
   "source": [
    "try:\n",
    "    raise Exception(\"Outer\")\n",
    "except Exception as e:\n",
    "    try:\n",
    "        raise Exception(\"Inner\")\n",
    "    except:\n",
    "        pass\n",
    "    raise"
   ]
  },
  {
   "cell_type": "code",
   "execution_count": 28,
   "id": "abed9742",
   "metadata": {},
   "outputs": [],
   "source": [
    "#Guidelines for exception-safe functions \n",
    "\n",
    "#Use try-except inside the function to handle expected errors\n",
    "\n",
    "#Raise meaningful exceptions if the function cannot complete its job\n",
    "\n",
    "#Use default values\n",
    "\n",
    "#Log errors if needed\n",
    "\n",
    "#Don't hide bugs silently- handle only what you except"
   ]
  },
  {
   "cell_type": "code",
   "execution_count": 29,
   "id": "3792ead1",
   "metadata": {},
   "outputs": [
    {
     "name": "stdout",
     "output_type": "stream",
     "text": [
      "File error: File not found: config.json\n",
      "Failed to load valid config.\n"
     ]
    }
   ],
   "source": [
    "import json\n",
    "import os\n",
    "\n",
    "def load_config(file_path):\n",
    "    try:\n",
    "        # Check if file exists\n",
    "        if not os.path.isfile(file_path):\n",
    "            raise FileNotFoundError(f\"File not found: {file_path}\")\n",
    "\n",
    "        # Load JSON data\n",
    "        with open(file_path, 'r') as file:\n",
    "            config = json.load(file)\n",
    "\n",
    "        # Validate essential keys\n",
    "        required_keys = ['host', 'port', 'username']\n",
    "        for key in required_keys:\n",
    "            if key not in config:\n",
    "                raise ValueError(f\"Missing required key: {key}\")\n",
    "\n",
    "        # Validate types\n",
    "        if not isinstance(config['port'], int):\n",
    "            raise TypeError(\"Port must be an integer\")\n",
    "\n",
    "        return config\n",
    "\n",
    "    except FileNotFoundError as fnf:\n",
    "        print(\"File error:\", fnf)\n",
    "    except json.JSONDecodeError as jde:\n",
    "        print(\"Invalid JSON format:\", jde)\n",
    "    except (ValueError, TypeError) as ve:\n",
    "        print(\"Validation error:\", ve)\n",
    "    except Exception as e:\n",
    "        print(\"Unexpected error:\", e)\n",
    "\n",
    "    return None\n",
    "\n",
    "# --- Example usage ---\n",
    "config = load_config(\"config.json\")\n",
    "if config:\n",
    "    print(\"Valid config loaded:\", config)\n",
    "else:\n",
    "    print(\"Failed to load valid config.\")"
   ]
  },
  {
   "cell_type": "code",
   "execution_count": 30,
   "id": "eb1d6f44",
   "metadata": {},
   "outputs": [
    {
     "name": "stdout",
     "output_type": "stream",
     "text": [
      "division by zero\n"
     ]
    }
   ],
   "source": [
    "a=int(input('Enter a number'))\n",
    "b=int(input('Enter a number'))\n",
    "\n",
    "try:\n",
    "    print(a/b)\n",
    "except ZeroDivisionError as e:\n",
    "    print(e)\n",
    "except ValueError as e:\n",
    "    print(e)"
   ]
  },
  {
   "cell_type": "code",
   "execution_count": 36,
   "id": "14c49af7",
   "metadata": {},
   "outputs": [
    {
     "name": "stdout",
     "output_type": "stream",
     "text": [
      "[Errno 2] No such file or directory: 'python.txt'\n"
     ]
    }
   ],
   "source": [
    "try:\n",
    "    f=open('python.txt','r')\n",
    "except FileNotFoundError as e:\n",
    "    print(e)\n",
    "except PermissionError as e:\n",
    "    print(e)"
   ]
  },
  {
   "cell_type": "code",
   "execution_count": 37,
   "id": "13067e2d",
   "metadata": {},
   "outputs": [
    {
     "name": "stdout",
     "output_type": "stream",
     "text": [
      "list index out of range\n"
     ]
    }
   ],
   "source": [
    "l=[6,36,216]\n",
    "index=int(input('Enter an index'))\n",
    "try:\n",
    "    print(l[index])\n",
    "except IndexError as e:\n",
    "    print(e)\n",
    "except ValueError as e:\n",
    "    print(e)"
   ]
  },
  {
   "cell_type": "code",
   "execution_count": 40,
   "id": "aaba82c6",
   "metadata": {},
   "outputs": [
    {
     "name": "stdout",
     "output_type": "stream",
     "text": [
      "invalid literal for int() with base 10: 'ml'\n"
     ]
    }
   ],
   "source": [
    "s=input('Enter a string')\n",
    "try:\n",
    "    print(int(s))\n",
    "except ValueError as e:\n",
    "    print(e)"
   ]
  },
  {
   "cell_type": "code",
   "execution_count": 45,
   "id": "7d411872",
   "metadata": {},
   "outputs": [
    {
     "name": "stdout",
     "output_type": "stream",
     "text": [
      "Interrupted by user\n",
      "hello\n"
     ]
    }
   ],
   "source": [
    "try:\n",
    "    a=input()\n",
    "    print(a)\n",
    "except KeyboardInterrupt as e:\n",
    "    print(e)\n",
    "\n",
    "print('hello')"
   ]
  },
  {
   "cell_type": "code",
   "execution_count": 48,
   "id": "6f095d99",
   "metadata": {},
   "outputs": [
    {
     "name": "stdout",
     "output_type": "stream",
     "text": [
      "invalid literal for int() with base 10: 'ml'\n",
      "list assignment index out of range\n",
      "Python\n"
     ]
    }
   ],
   "source": [
    "try:\n",
    "    f=open('demo.txt','r')\n",
    "    l=list(f)\n",
    "    try:\n",
    "        index=int(input('Enter index'))\n",
    "    except ValueError as e:\n",
    "        print(e)\n",
    "    try:\n",
    "        l[index]='ML'\n",
    "    except IndexError as e:\n",
    "        print(e)\n",
    "        \n",
    "except FileNotFoundError as e:\n",
    "    print(e)\n",
    "\n",
    "print('Python')"
   ]
  },
  {
   "cell_type": "code",
   "execution_count": 51,
   "id": "94d3352c",
   "metadata": {},
   "outputs": [
    {
     "name": "stdout",
     "output_type": "stream",
     "text": [
      "Invalid Name\n",
      "Valid Age\n",
      "Valid Email\n"
     ]
    }
   ],
   "source": [
    "class InvalidName(Exception):\n",
    "    pass\n",
    "\n",
    "class InvalidAge(Exception):\n",
    "    pass\n",
    "\n",
    "class InvalidEmail(Exception):\n",
    "    pass\n",
    "\n",
    "form_data={\n",
    "    'name':'abc',\n",
    "    'age':19,\n",
    "    'email':'abc@mail.com'\n",
    "}\n",
    "\n",
    "def check_name():\n",
    "\n",
    "    if len(form_data['name'])<8:\n",
    "        raise InvalidName\n",
    "    else:\n",
    "        print('Valid Name')\n",
    "\n",
    "try:\n",
    "    check_name()\n",
    "except InvalidName as n:\n",
    "    print('Invalid Name')\n",
    "\n",
    "def check_age():\n",
    "\n",
    "    if form_data['age']<15:\n",
    "        raise InvalidAge\n",
    "    else:\n",
    "        print('Valid Age')\n",
    "\n",
    "try:\n",
    "    check_age()\n",
    "except InvalidAge as a:\n",
    "    print('Invalid Age')\n",
    "\n",
    "def check_email():\n",
    "\n",
    "    if '@' not in form_data['email']:\n",
    "        raise InvalidEmail\n",
    "    else:\n",
    "        print('Valid Email')\n",
    "\n",
    "try:\n",
    "    check_email()\n",
    "except InvalidEmail as em:\n",
    "    print('Invalid Email')\n"
   ]
  },
  {
   "cell_type": "code",
   "execution_count": 52,
   "id": "553132b1",
   "metadata": {},
   "outputs": [
    {
     "name": "stdout",
     "output_type": "stream",
     "text": [
      "Not valid integer, Plz try again\n",
      "Not valid integer, Plz try again\n",
      "You entered: 6\n"
     ]
    }
   ],
   "source": [
    "while True:\n",
    "    try:\n",
    "        num=int(input(\"Enter a valid integer: \"))\n",
    "        print(f\"You entered: {num}\")\n",
    "        break\n",
    "    except ValueError:\n",
    "        print(\"Not valid integer, Plz try again\")"
   ]
  },
  {
   "cell_type": "code",
   "execution_count": 82,
   "id": "eddb69c5",
   "metadata": {},
   "outputs": [
    {
     "data": {
      "text/plain": [
       "'09:59:59'"
      ]
     },
     "execution_count": 82,
     "metadata": {},
     "output_type": "execute_result"
    }
   ],
   "source": [
    "def make_readable(seconds):\n",
    "\n",
    "    if(seconds>359999 or seconds<0):\n",
    "        raise ValueError(\"seconds should be betweem 0 and 359999\")\n",
    "\n",
    "    hh=0\n",
    "    mm=0\n",
    "    ss=0\n",
    "\n",
    "    hh=seconds//3600\n",
    "    mm=(seconds%3600)//60\n",
    "    ss=seconds%60\n",
    "\n",
    "    return f'{hh:02}:{mm:02}:{ss:02}'\n",
    "\n",
    "make_readable(35999)"
   ]
  },
  {
   "cell_type": "code",
   "execution_count": null,
   "id": "7187e22e",
   "metadata": {},
   "outputs": [],
   "source": []
  }
 ],
 "metadata": {
  "kernelspec": {
   "display_name": "base",
   "language": "python",
   "name": "python3"
  },
  "language_info": {
   "codemirror_mode": {
    "name": "ipython",
    "version": 3
   },
   "file_extension": ".py",
   "mimetype": "text/x-python",
   "name": "python",
   "nbconvert_exporter": "python",
   "pygments_lexer": "ipython3",
   "version": "3.11.7"
  }
 },
 "nbformat": 4,
 "nbformat_minor": 5
}
