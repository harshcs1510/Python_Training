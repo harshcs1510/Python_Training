{
 "cells": [
  {
   "cell_type": "code",
   "execution_count": 1,
   "id": "5db598ba",
   "metadata": {},
   "outputs": [
    {
     "name": "stdout",
     "output_type": "stream",
     "text": [
      "1\n",
      "2\n",
      "3\n"
     ]
    },
    {
     "data": {
      "text/plain": [
       "<list_iterator at 0x1aa5f6b3ac0>"
      ]
     },
     "execution_count": 1,
     "metadata": {},
     "output_type": "execute_result"
    }
   ],
   "source": [
    "#Iterabels- things which can be given directly to the for loop. List, string, dictionary\n",
    "#Iterator- function \n",
    "\n",
    "for i in [1,2,3]:\n",
    "    print(i)\n",
    "\n",
    "#iter -> iterator\n",
    "iter([1,2,3])"
   ]
  },
  {
   "cell_type": "code",
   "execution_count": 8,
   "id": "a7097db1",
   "metadata": {},
   "outputs": [
    {
     "name": "stdout",
     "output_type": "stream",
     "text": [
      "h e l l o\n"
     ]
    }
   ],
   "source": [
    "#iterables\n",
    "my_list='hello'\n",
    "#iterator\n",
    "my_it=iter(my_list)\n",
    "\n",
    "#next\n",
    "#print(next(my_it)) \n",
    "\n",
    "\n",
    "#unpack with (*)\n",
    "print(*my_it)\n",
    "\n"
   ]
  },
  {
   "cell_type": "code",
   "execution_count": 9,
   "id": "9522ebbc",
   "metadata": {},
   "outputs": [
    {
     "name": "stdout",
     "output_type": "stream",
     "text": [
      "['h', 'e', 'l', 'l', 'o']\n"
     ]
    }
   ],
   "source": [
    "my_list='hello'\n",
    "my_it=iter(my_list)\n",
    "print(list(my_it))"
   ]
  },
  {
   "cell_type": "code",
   "execution_count": 15,
   "id": "2e19da57",
   "metadata": {},
   "outputs": [
    {
     "name": "stdout",
     "output_type": "stream",
     "text": [
      "0 a\n",
      "1 b\n",
      "2 c\n",
      "(0, 'a')\n",
      "[(0, 'a'), (1, 'b'), (2, 'c')]\n"
     ]
    },
    {
     "data": {
      "text/plain": [
       "[(3, 'a'), (4, 'b'), (5, 'c')]"
      ]
     },
     "execution_count": 15,
     "metadata": {},
     "output_type": "execute_result"
    }
   ],
   "source": [
    "#enumerate\n",
    "\n",
    "ls=['a','b','c']\n",
    "\n",
    "for i,v in enumerate(ls):\n",
    "    print(i,v)\n",
    "\n",
    "print(next(enumerate(ls)))\n",
    "\n",
    "print(list(enumerate(ls)))\n",
    "\n",
    "list(enumerate(ls,start=3))"
   ]
  },
  {
   "cell_type": "code",
   "execution_count": null,
   "id": "5e8e9852",
   "metadata": {},
   "outputs": [
    {
     "data": {
      "text/plain": [
       "<generator object simple_gen at 0x000001AA5F5DE610>"
      ]
     },
     "execution_count": 16,
     "metadata": {},
     "output_type": "execute_result"
    }
   ],
   "source": [
    "#generators -> used to create iterators and they are memory efficient\n",
    "#yield\n",
    "\n",
    "#benefits-> memory efficiency, lazy evaluation, maintain state, convenience\n",
    "\n",
    "def simple_gen():\n",
    "    yield 1\n",
    "    yield 2\n",
    "    yield 3\n",
    "\n",
    "gen=simple_gen()\n",
    "gen\n",
    "\n"
   ]
  },
  {
   "cell_type": "code",
   "execution_count": null,
   "id": "4f1f4e19",
   "metadata": {},
   "outputs": [
    {
     "name": "stdout",
     "output_type": "stream",
     "text": [
      "0\n",
      "1\n",
      "2\n",
      "3\n",
      "4\n"
     ]
    }
   ],
   "source": [
    "def infinite():  #infinite loop in a controlled environment\n",
    "    num=0\n",
    "    while True:\n",
    "        yield num\n",
    "        num+=1\n",
    "\n",
    "gen=infinite()\n",
    "print(next(gen))\n",
    "print(next(gen))\n",
    "print(next(gen))\n",
    "print(next(gen))\n",
    "print(next(gen))"
   ]
  },
  {
   "cell_type": "code",
   "execution_count": 18,
   "id": "caf9c98c",
   "metadata": {},
   "outputs": [
    {
     "name": "stdout",
     "output_type": "stream",
     "text": [
      "0\n",
      "1\n"
     ]
    }
   ],
   "source": [
    "#generator without yield\n",
    "\n",
    "#ls=[x for x in range(10**9)] --> dont store in list memory will crash\n",
    "\n",
    "gen=(x for x in range(10**9))\n",
    "\n",
    "print(next(gen))\n",
    "print(next(gen))"
   ]
  },
  {
   "cell_type": "code",
   "execution_count": 21,
   "id": "e451c974",
   "metadata": {},
   "outputs": [
    {
     "name": "stdout",
     "output_type": "stream",
     "text": [
      "1\n",
      "2\n",
      "3\n",
      "4\n",
      "5\n",
      "6\n"
     ]
    }
   ],
   "source": [
    "#generate nos. from 1 to N\n",
    "\n",
    "n=int(input('enter a number'))\n",
    "gen=(x for x in range(1,n+1))\n",
    "\n",
    "for i in gen:\n",
    "    print(i)"
   ]
  },
  {
   "cell_type": "code",
   "execution_count": 24,
   "id": "1120fd57",
   "metadata": {},
   "outputs": [
    {
     "name": "stdout",
     "output_type": "stream",
     "text": [
      "0\n",
      "1\n",
      "1\n",
      "2\n",
      "3\n",
      "5\n"
     ]
    }
   ],
   "source": [
    "#fibonacci generator\n",
    "\n",
    "n=int(input('enter a number'))\n",
    "\n",
    "def fib(num):\n",
    "    a,b=0,1\n",
    "    while num:\n",
    "        yield a\n",
    "        a,b=b,a+b\n",
    "        num-=1\n",
    "\n",
    "gen=fib(n)\n",
    "\n",
    "for i in gen:\n",
    "    print(i)"
   ]
  },
  {
   "cell_type": "code",
   "execution_count": null,
   "id": "9a8304eb",
   "metadata": {},
   "outputs": [
    {
     "name": "stdout",
     "output_type": "stream",
     "text": [
      "646\n",
      "8686\n"
     ]
    }
   ],
   "source": [
    "#return even numbers from a list\n",
    "\n",
    "l=[1,425,646,8686,587]\n",
    "\n",
    "def even(ls):\n",
    "    for i in ls:\n",
    "        if i%2==0:\n",
    "            yield i\n",
    "\n",
    "gen=even(l)\n",
    "\n",
    "for i in gen:\n",
    "    print(i)"
   ]
  },
  {
   "cell_type": "code",
   "execution_count": 30,
   "id": "4ee73123",
   "metadata": {},
   "outputs": [
    {
     "name": "stdout",
     "output_type": "stream",
     "text": [
      "before hi\n",
      "hello\n",
      "after hi\n",
      "hello\n"
     ]
    }
   ],
   "source": [
    "#decorators\n",
    "\n",
    "def deco(func):\n",
    "    def wrapper():\n",
    "        print('before hi')\n",
    "        func()\n",
    "        print('after hi')\n",
    "        func()\n",
    "    return wrapper\n",
    "\n",
    "@deco\n",
    "def hi():\n",
    "    print('hello')\n",
    "\n",
    "hi()"
   ]
  },
  {
   "cell_type": "code",
   "execution_count": 31,
   "id": "3be528af",
   "metadata": {},
   "outputs": [
    {
     "name": "stdout",
     "output_type": "stream",
     "text": [
      "wrapper executed this before display\n",
      "display function ran\n"
     ]
    }
   ],
   "source": [
    "def decorator_function(original_function):\n",
    "    def wrapper_function():\n",
    "        print('wrapper executed this before', original_function.__name__)\n",
    "        return original_function()\n",
    "    return wrapper_function\n",
    "\n",
    "def display():\n",
    "    print('display function ran')\n",
    "\n",
    "decorated_display=decorator_function(display)\n",
    "decorated_display()"
   ]
  },
  {
   "cell_type": "code",
   "execution_count": 32,
   "id": "4fa40c76",
   "metadata": {},
   "outputs": [
    {
     "name": "stdout",
     "output_type": "stream",
     "text": [
      "Function executed\n",
      "Function executed\n",
      "Function executed\n",
      "The function 'example_function' was called 3 times\n"
     ]
    }
   ],
   "source": [
    "def count_calls(func):\n",
    "    def wrapper(*args, **kwargs):\n",
    "        wrapper.count+=1\n",
    "        return func(*args,**kwargs)\n",
    "    wrapper.count=0\n",
    "    return wrapper\n",
    "\n",
    "@count_calls\n",
    "def example_function():\n",
    "    \"\"\"This is an example function\"\"\"\n",
    "    print('Function executed')\n",
    "\n",
    "example_function()\n",
    "example_function()\n",
    "example_function()\n",
    "\n",
    "print(f\"The function 'example_function' was called {example_function.count} times\")"
   ]
  },
  {
   "cell_type": "code",
   "execution_count": 33,
   "id": "eb44c08a",
   "metadata": {},
   "outputs": [
    {
     "name": "stdout",
     "output_type": "stream",
     "text": [
      "Example1 executed\n",
      "Example2 executed\n",
      "Example1 executed\n",
      "The function 'example_1' was called 2 times and the function 'example_2' was called 1 times\n"
     ]
    }
   ],
   "source": [
    "def count_calls(func):\n",
    "    def wrapper(*args, **kwargs):\n",
    "        wrapper.count+=1\n",
    "        return func(*args,**kwargs)\n",
    "    wrapper.count=0\n",
    "    return wrapper\n",
    "\n",
    "@count_calls\n",
    "def example_1():\n",
    "    \"\"\"This is first example function\"\"\"\n",
    "    print('Example1 executed')\n",
    "\n",
    "@count_calls\n",
    "def example_2():\n",
    "    \"\"\"This is second example function\"\"\"\n",
    "    print('Example2 executed')\n",
    "\n",
    "example_1()\n",
    "example_2()\n",
    "example_1()\n",
    "\n",
    "print(f\"The function 'example_1' was called {example_1.count} times and the function 'example_2' was called {example_2.count} times\")"
   ]
  },
  {
   "cell_type": "code",
   "execution_count": 34,
   "id": "546f6a8a",
   "metadata": {},
   "outputs": [
    {
     "name": "stdout",
     "output_type": "stream",
     "text": [
      "HELLO WORLD\n",
      "123\n"
     ]
    }
   ],
   "source": [
    "def uppercase_decorator(func):\n",
    "    def wrapper(*args, **kwargs):\n",
    "        result=func(*args,**kwargs)\n",
    "        if isinstance(result, str):\n",
    "            return result.upper()\n",
    "        return result\n",
    "    return wrapper\n",
    "\n",
    "@uppercase_decorator\n",
    "def get_string():\n",
    "    return 'hello world'\n",
    "\n",
    "@uppercase_decorator\n",
    "def get_number():\n",
    "    return 123\n",
    "\n",
    "print(get_string())\n",
    "print(get_number())\n"
   ]
  },
  {
   "cell_type": "code",
   "execution_count": 37,
   "id": "80c29864",
   "metadata": {},
   "outputs": [
    {
     "name": "stdout",
     "output_type": "stream",
     "text": [
      "24200\n"
     ]
    }
   ],
   "source": [
    "#code for decorator chaining\n",
    "\n",
    "def decor1(func):\n",
    "    def inner():\n",
    "        x=func()\n",
    "        return x*x\n",
    "    return inner\n",
    "\n",
    "def decor(func):\n",
    "    def inner():\n",
    "        x=func()\n",
    "        return 2*x\n",
    "    return inner\n",
    "\n",
    "def decor2(func):\n",
    "    def inner():\n",
    "        x=func()\n",
    "        return x+100\n",
    "    return inner\n",
    "\n",
    "@decor\n",
    "@decor1\n",
    "@decor2\n",
    "def num():\n",
    "    return 10\n",
    "\n",
    "print(num())"
   ]
  },
  {
   "cell_type": "code",
   "execution_count": null,
   "id": "85c82972",
   "metadata": {},
   "outputs": [
    {
     "name": "stdout",
     "output_type": "stream",
     "text": [
      "25\n",
      "DRACARYS\n"
     ]
    },
    {
     "ename": "TypeError",
     "evalue": "Expected <class 'int'>, got <class 'str'>",
     "output_type": "error",
     "traceback": [
      "\u001b[1;31m---------------------------------------------------------------------------\u001b[0m",
      "\u001b[1;31mTypeError\u001b[0m                                 Traceback (most recent call last)",
      "Cell \u001b[1;32mIn[38], line 24\u001b[0m\n\u001b[0;32m     21\u001b[0m \u001b[38;5;28mprint\u001b[39m(square(\u001b[38;5;241m5\u001b[39m))\n\u001b[0;32m     22\u001b[0m \u001b[38;5;28mprint\u001b[39m(shout(\u001b[38;5;124m'\u001b[39m\u001b[38;5;124mdracarys\u001b[39m\u001b[38;5;124m'\u001b[39m))\n\u001b[1;32m---> 24\u001b[0m \u001b[38;5;28mprint\u001b[39m(square(\u001b[38;5;124m'\u001b[39m\u001b[38;5;124mnot a number\u001b[39m\u001b[38;5;124m'\u001b[39m))\n",
      "Cell \u001b[1;32mIn[38], line 5\u001b[0m, in \u001b[0;36mtype_check_decorator.<locals>.decorator.<locals>.wrapper\u001b[1;34m(arg)\u001b[0m\n\u001b[0;32m      3\u001b[0m \u001b[38;5;28;01mdef\u001b[39;00m \u001b[38;5;21mwrapper\u001b[39m(arg):\n\u001b[0;32m      4\u001b[0m     \u001b[38;5;28;01mif\u001b[39;00m \u001b[38;5;129;01mnot\u001b[39;00m \u001b[38;5;28misinstance\u001b[39m(arg, expected_type):\n\u001b[1;32m----> 5\u001b[0m         \u001b[38;5;28;01mraise\u001b[39;00m \u001b[38;5;167;01mTypeError\u001b[39;00m(\u001b[38;5;124mf\u001b[39m\u001b[38;5;124m'\u001b[39m\u001b[38;5;124mExpected \u001b[39m\u001b[38;5;132;01m{\u001b[39;00mexpected_type\u001b[38;5;132;01m}\u001b[39;00m\u001b[38;5;124m, got \u001b[39m\u001b[38;5;132;01m{\u001b[39;00m\u001b[38;5;28mtype\u001b[39m(arg)\u001b[38;5;132;01m}\u001b[39;00m\u001b[38;5;124m'\u001b[39m)\n\u001b[0;32m      6\u001b[0m     \u001b[38;5;28;01mreturn\u001b[39;00m func(arg)\n",
      "\u001b[1;31mTypeError\u001b[0m: Expected <class 'int'>, got <class 'str'>"
     ]
    }
   ],
   "source": [
    "def type_check_decorator(expected_type):\n",
    "    def decorator(func):\n",
    "        def wrapper(arg):\n",
    "            if not isinstance(arg, expected_type):\n",
    "                raise TypeError(f'Expected {expected_type}, got {type(arg)}')\n",
    "            return func(arg)\n",
    "        return wrapper\n",
    "    return decorator\n",
    "\n",
    "#example usage\n",
    "\n",
    "@type_check_decorator(int)\n",
    "def square(n):\n",
    "    return n*n\n",
    "\n",
    "@type_check_decorator(str)\n",
    "def shout(text):\n",
    "    return text.upper()\n",
    "\n",
    "#valid calls\n",
    "print(square(5))\n",
    "print(shout('dracarys'))\n",
    "\n",
    "#invalid\n",
    "print(square('not a number'))"
   ]
  },
  {
   "cell_type": "code",
   "execution_count": 39,
   "id": "53dce599",
   "metadata": {},
   "outputs": [
    {
     "name": "stdout",
     "output_type": "stream",
     "text": [
      "1\n",
      "3\n",
      "5\n",
      "7\n",
      "9\n"
     ]
    }
   ],
   "source": [
    "def infinite_odd():  #infinite loop in a controlled environment\n",
    "    num=1\n",
    "    while True:\n",
    "        yield num\n",
    "        num+=2\n",
    "\n",
    "gen=infinite_odd()\n",
    "print(next(gen))\n",
    "print(next(gen))\n",
    "print(next(gen))\n",
    "print(next(gen))\n",
    "print(next(gen))"
   ]
  },
  {
   "cell_type": "code",
   "execution_count": 41,
   "id": "e8304314",
   "metadata": {},
   "outputs": [
    {
     "name": "stdout",
     "output_type": "stream",
     "text": [
      "8\n"
     ]
    },
    {
     "data": {
      "text/plain": [
       "True"
      ]
     },
     "execution_count": 41,
     "metadata": {},
     "output_type": "execute_result"
    }
   ],
   "source": [
    "#lambda/single-line function\n",
    "\n",
    "a=lambda a,b:a*b\n",
    "print(a(2,4))\n",
    "\n",
    "b=lambda x:x%2==0\n",
    "b(24)"
   ]
  },
  {
   "cell_type": "code",
   "execution_count": 48,
   "id": "a2fd059d",
   "metadata": {},
   "outputs": [
    {
     "name": "stdout",
     "output_type": "stream",
     "text": [
      "wons noj\n"
     ]
    },
    {
     "data": {
      "text/plain": [
       "3"
      ]
     },
     "execution_count": 48,
     "metadata": {},
     "output_type": "execute_result"
    }
   ],
   "source": [
    "a=lambda s:s[::-1]\n",
    "print(a('jon snow'))\n",
    "\n",
    "m=lambda a,b,c:max(a,max(b,c))\n",
    "m(1,2,3)"
   ]
  },
  {
   "cell_type": "code",
   "execution_count": 49,
   "id": "eaf5f947",
   "metadata": {},
   "outputs": [
    {
     "data": {
      "text/plain": [
       "'even'"
      ]
     },
     "execution_count": 49,
     "metadata": {},
     "output_type": "execute_result"
    }
   ],
   "source": [
    "check=lambda num:'even' if num%2==0 else 'odd'\n",
    "check(6)"
   ]
  },
  {
   "cell_type": "code",
   "execution_count": 52,
   "id": "fbb86c97",
   "metadata": {},
   "outputs": [
    {
     "data": {
      "text/plain": [
       "[('age', 16), ('house', 'stark'), ('name', 'jon')]"
      ]
     },
     "execution_count": 52,
     "metadata": {},
     "output_type": "execute_result"
    }
   ],
   "source": [
    "a=lambda dic:sorted(dic.items())\n",
    "a({'name':'jon','house':'stark','age':16})"
   ]
  },
  {
   "cell_type": "code",
   "execution_count": null,
   "id": "b02b38d8",
   "metadata": {},
   "outputs": [
    {
     "name": "stdout",
     "output_type": "stream",
     "text": [
      "['a', 'aaaa', 'ab', 'abc']\n"
     ]
    },
    {
     "data": {
      "text/plain": [
       "['a', 'ab', 'abc', 'aaaa']"
      ]
     },
     "execution_count": 56,
     "metadata": {},
     "output_type": "execute_result"
    }
   ],
   "source": [
    "a=lambda l:sorted(l)\n",
    "print(a(['abc','ab','a','aaaa'])) #alphabetical\n",
    "\n",
    "b=lambda ls: sorted(ls,key=len) #lengthwise\n",
    "b(['abc','ab','a','aaaa'])"
   ]
  },
  {
   "cell_type": "code",
   "execution_count": null,
   "id": "c7129d76",
   "metadata": {},
   "outputs": [],
   "source": [
    "\n",
    "\n"
   ]
  }
 ],
 "metadata": {
  "kernelspec": {
   "display_name": "base",
   "language": "python",
   "name": "python3"
  },
  "language_info": {
   "codemirror_mode": {
    "name": "ipython",
    "version": 3
   },
   "file_extension": ".py",
   "mimetype": "text/x-python",
   "name": "python",
   "nbconvert_exporter": "python",
   "pygments_lexer": "ipython3",
   "version": "3.11.7"
  }
 },
 "nbformat": 4,
 "nbformat_minor": 5
}
