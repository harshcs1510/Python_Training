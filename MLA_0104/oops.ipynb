{
 "cells": [
  {
   "cell_type": "code",
   "execution_count": 1,
   "id": "4167a609",
   "metadata": {},
   "outputs": [
    {
     "name": "stdout",
     "output_type": "stream",
     "text": [
      "hello\n",
      "6\n"
     ]
    }
   ],
   "source": [
    "class demo: #without an object\n",
    "    print('hello')\n",
    "    a=12\n",
    "    b=6\n",
    "    print(a-b)"
   ]
  },
  {
   "cell_type": "code",
   "execution_count": 3,
   "id": "6050a664",
   "metadata": {},
   "outputs": [
    {
     "name": "stdout",
     "output_type": "stream",
     "text": [
      "hello\n",
      "18\n",
      "6\n"
     ]
    }
   ],
   "source": [
    "class demo:\n",
    "    print('hello')\n",
    "    a=12\n",
    "    b=6\n",
    "    print(a+b)\n",
    "\n",
    "obj=demo()\n",
    "print(obj.b)"
   ]
  },
  {
   "cell_type": "code",
   "execution_count": 13,
   "id": "cb5eef5e",
   "metadata": {},
   "outputs": [
    {
     "name": "stdout",
     "output_type": "stream",
     "text": [
      "-5\n",
      "6\n"
     ]
    }
   ],
   "source": [
    "class demo:\n",
    "    c=5 #class variable\n",
    "\n",
    "    def __init__(self,a,b):  #activated by object  double underscore(__)\n",
    "        self.a=a  #instance variable\n",
    "        self.b=b\n",
    "\n",
    "    def add(self):\n",
    "        a=12\n",
    "        b=13\n",
    "        return self.a+self.b\n",
    "\n",
    "    def sub(self):\n",
    "        return self.a-self.b-self.c\n",
    "\n",
    "#obj=demo()\n",
    "#v=obj.add(12,12)\n",
    "#obj1=demo()\n",
    "#v2=obj1.add(10,10)\n",
    "\n",
    "obj=demo(10,10)\n",
    "print(obj.sub())\n",
    "\n",
    "obj.d=6 #also class variable\n",
    "print(obj.d)\n"
   ]
  },
  {
   "cell_type": "code",
   "execution_count": 32,
   "id": "12ef94c8",
   "metadata": {},
   "outputs": [
    {
     "name": "stdout",
     "output_type": "stream",
     "text": [
      "19\n"
     ]
    }
   ],
   "source": [
    "#roman numeral to int\n",
    "\n",
    "d={'I':1,'V':5,'X':10,'L':50,'C':100}\n",
    "\n",
    "rom=input('Enter Roman Numeral')\n",
    "res=0\n",
    "prev=0\n",
    "for i in reversed(rom):\n",
    "    value=d.get(i,0)\n",
    "    if value<prev:\n",
    "        res-=value\n",
    "    else:\n",
    "        res+=value\n",
    "    prev=value\n",
    "    \n",
    "print(res)\n",
    "    "
   ]
  },
  {
   "cell_type": "code",
   "execution_count": null,
   "id": "afac9d3d",
   "metadata": {},
   "outputs": [
    {
     "name": "stdout",
     "output_type": "stream",
     "text": [
      "100\n"
     ]
    }
   ],
   "source": [
    "class cal:\n",
    "\n",
    "#self is instance variable\n",
    "\n",
    "    def __init__(self,a=20,b=40):\n",
    "        self.m=a\n",
    "        self.n=b\n",
    "\n",
    "    def add(self):\n",
    "        print(self.m+self.n)\n",
    "\n",
    "s=cal(70,30)\n",
    "s.add()"
   ]
  },
  {
   "cell_type": "code",
   "execution_count": 2,
   "id": "5effe344",
   "metadata": {},
   "outputs": [
    {
     "name": "stdout",
     "output_type": "stream",
     "text": [
      "Rectangle(5,10)\n",
      "False\n",
      "50\n"
     ]
    }
   ],
   "source": [
    "class Rectangle:\n",
    "\n",
    "    def __init__(self,length,width):\n",
    "        self.length=length\n",
    "        self.width=width\n",
    "\n",
    "    def __str__(self):\n",
    "        return f\"Rectangle({self.length},{self.width})\"\n",
    "    \n",
    "    def __eq__(self, other):\n",
    "        return self.length==other.length and self.width==other.width\n",
    "    \n",
    "    def area(self):\n",
    "        return self.length*self.width\n",
    "    \n",
    "r1=Rectangle(5,10)\n",
    "r2=Rectangle(10,5)\n",
    "\n",
    "print(r1)\n",
    "print(r1==r2)\n",
    "print(r1.area())"
   ]
  },
  {
   "cell_type": "code",
   "execution_count": 8,
   "id": "b12739d9",
   "metadata": {},
   "outputs": [
    {
     "name": "stdout",
     "output_type": "stream",
     "text": [
      "['__class__', '__delattr__', '__dict__', '__dir__', '__doc__', '__eq__', '__format__', '__ge__', '__getattribute__', '__getstate__', '__gt__', '__hash__', '__init__', '__init_subclass__', '__le__', '__lt__', '__module__', '__ne__', '__new__', '__reduce__', '__reduce_ex__', '__repr__', '__setattr__', '__sizeof__', '__str__', '__subclasshook__', '__weakref__', 'a', 'b']\n",
      "True\n"
     ]
    }
   ],
   "source": [
    "class demo:\n",
    "    a=10\n",
    "    b=20\n",
    "\n",
    "obj=demo()\n",
    "print(dir(demo))\n",
    "x=isinstance(obj,demo)\n",
    "print(x)\n"
   ]
  },
  {
   "cell_type": "code",
   "execution_count": 10,
   "id": "871d371e",
   "metadata": {},
   "outputs": [
    {
     "name": "stdout",
     "output_type": "stream",
     "text": [
      "10\n",
      "10\n"
     ]
    }
   ],
   "source": [
    "#get attr\n",
    "class demo:\n",
    "    a=10\n",
    "    b=10\n",
    "\n",
    "obj=demo()\n",
    "print(getattr(demo,'a'))\n",
    "print(obj.a)"
   ]
  },
  {
   "cell_type": "code",
   "execution_count": 14,
   "id": "3cd9614c",
   "metadata": {},
   "outputs": [
    {
     "name": "stdout",
     "output_type": "stream",
     "text": [
      "1.04\n",
      "1.06\n",
      "1.06\n"
     ]
    }
   ],
   "source": [
    "class Employee:\n",
    "    raise_amount=1.04\n",
    "\n",
    "    def __init__(self,first,last,pay):\n",
    "        self.first=first\n",
    "        self.last=last\n",
    "        self.pay=pay\n",
    "        self.email=first+'.'+last+'@company.com'\n",
    "\n",
    "    def fullname(self):\n",
    "        return '{}{}'.format(self.first,self.last)\n",
    "    \n",
    "    def apply_raise(self):\n",
    "        #self.pay=int(self.pay*1.04)\n",
    "        self.pay=int(self.pay*self.raise_amount) #employee.raise_amount\n",
    "\n",
    "    @classmethod\n",
    "    def set_raise_amt(cls,amount):\n",
    "        cls.raise_amount=amount\n",
    "\n",
    "emp_1=Employee('Gintoki','Sakata',36000)\n",
    "emp_2=Employee('Toshiro','Hijikata',60000)\n",
    "\n",
    "# print(emp_1.pay)\n",
    "# Employee.raise_amount=1.05 #changing class variable\n",
    "# emp_1.apply_raise()\n",
    "# print(emp_1.pay)\n",
    "\n",
    "print(emp_1.raise_amount)\n",
    "#emp_1.set_raise_amt(1.05)\n",
    "Employee.set_raise_amt(1.06)\n",
    "\n",
    "print(emp_1.raise_amount)\n",
    "print(emp_2.raise_amount)"
   ]
  },
  {
   "cell_type": "code",
   "execution_count": 15,
   "id": "47bb2e2e",
   "metadata": {},
   "outputs": [
    {
     "name": "stdout",
     "output_type": "stream",
     "text": [
      "base\n",
      "derived\n"
     ]
    }
   ],
   "source": [
    "#single inheritance\n",
    "\n",
    "class base():\n",
    "    a_name=\"base\"\n",
    "    #print(a_name)\n",
    "\n",
    "class derived(base):\n",
    "    b_name=\"derived\"\n",
    "\n",
    "obj=derived()\n",
    "print(obj.a_name)\n",
    "print(obj.b_name)"
   ]
  },
  {
   "cell_type": "code",
   "execution_count": 16,
   "id": "e1bdd5f9",
   "metadata": {},
   "outputs": [],
   "source": [
    "class Robot:\n",
    "\n",
    "    def __init__(self,name='Ram'):\n",
    "        self.name=name\n",
    "    \n",
    "    def say_hi(self):\n",
    "        print('Yes, I am'+self.name)\n",
    "\n",
    "class PhysicianRobot(Robot):\n",
    "    pass\n",
    "\n",
    "#x=Robot('Marvin')\n",
    "y=PhysicianRobot('Mohammad Abdul')\n",
    "\n",
    "#print(x,type(x))\n",
    "#print(y,type(y))"
   ]
  },
  {
   "cell_type": "code",
   "execution_count": 17,
   "id": "f4d96060",
   "metadata": {},
   "outputs": [],
   "source": [
    "#multiple inheritance\n",
    "\n",
    "class father:\n",
    "    f_name='abc'\n",
    "\n",
    "class mother:\n",
    "    m_name='xyz'\n",
    "\n",
    "class son(father,mother):\n",
    "    son='son'\n",
    "\n",
    "obj=son()"
   ]
  },
  {
   "cell_type": "code",
   "execution_count": 22,
   "id": "f85a3692",
   "metadata": {},
   "outputs": [
    {
     "name": "stdout",
     "output_type": "stream",
     "text": [
      "I am a car\n",
      "general use: transportation\n",
      "specific use: commute to work, vacation with family\n",
      "I am a motorbike\n",
      "general use: transportation\n",
      "specific use: road trip, racing\n"
     ]
    }
   ],
   "source": [
    "#hierarchical inheritance\n",
    "\n",
    "class Vehicle:\n",
    "    def general_usage(self):\n",
    "        print('general use: transportation')\n",
    "\n",
    "class Car(Vehicle):\n",
    "    def __init__(self):\n",
    "        print('I am a car')\n",
    "        self.wheels=4\n",
    "        self.has_roof=True\n",
    "    \n",
    "    def specific_usage(self):\n",
    "        #self.general_usage()\n",
    "        print('specific use: commute to work, vacation with family')\n",
    "\n",
    "class MotorCycle(Vehicle):\n",
    "    def __init__(self):\n",
    "        print('I am a motorbike')\n",
    "        self.wheels=2\n",
    "        self.has_roof=False\n",
    "\n",
    "    def specific_usage(self):\n",
    "        #self.general_usage()\n",
    "        print('specific use: road trip, racing')\n",
    "\n",
    "#vehicle vobj=new car\n",
    "\n",
    "c=Car()\n",
    "c.general_usage()\n",
    "c.specific_usage()\n",
    "\n",
    "m=MotorCycle()\n",
    "m.general_usage()\n",
    "m.specific_usage()"
   ]
  },
  {
   "cell_type": "code",
   "execution_count": 24,
   "id": "c179f295",
   "metadata": {},
   "outputs": [
    {
     "name": "stdout",
     "output_type": "stream",
     "text": [
      "From demo\n",
      "From demo1\n"
     ]
    }
   ],
   "source": [
    "class demo():\n",
    "    def __init__(self):\n",
    "        print('From demo')\n",
    "\n",
    "class demo1(demo):\n",
    "    def __init__(self):\n",
    "        super().__init__()\n",
    "        print('From demo1')\n",
    "\n",
    "d=demo1()"
   ]
  },
  {
   "cell_type": "code",
   "execution_count": 26,
   "id": "6f07889a",
   "metadata": {},
   "outputs": [
    {
     "name": "stdout",
     "output_type": "stream",
     "text": [
      "Animal __init__\n",
      "Dog __init__\n",
      "Dog\n",
      "Labrador\n"
     ]
    }
   ],
   "source": [
    "class Animal:\n",
    "    def __init__(self,species):\n",
    "        self.species=species\n",
    "        print(\"Animal __init__\")\n",
    "\n",
    "class Dog(Animal):\n",
    "    def __init__(self, breed):\n",
    "        super().__init__('Dog')\n",
    "        self.breed=breed\n",
    "        print(\"Dog __init__\")\n",
    "\n",
    "my_dog=Dog('Labrador')\n",
    "print(my_dog.species)\n",
    "print(my_dog.breed)"
   ]
  },
  {
   "cell_type": "code",
   "execution_count": 27,
   "id": "ca0780ec",
   "metadata": {},
   "outputs": [
    {
     "name": "stdout",
     "output_type": "stream",
     "text": [
      "Animal __init__\n",
      "Dog __init__\n",
      "Dog\n",
      "Labrador\n"
     ]
    }
   ],
   "source": [
    "class Animal:\n",
    "    def __init__(self,species):\n",
    "        self.species=species\n",
    "        print(\"Animal __init__\")\n",
    "\n",
    "class Dog(Animal):\n",
    "    def __init__(self, breed, spec):\n",
    "        self.spec=spec\n",
    "        super().__init__(spec)\n",
    "        self.breed=breed\n",
    "        print(\"Dog __init__\")\n",
    "\n",
    "my_dog=Dog('Labrador','Dog')\n",
    "print(my_dog.species)\n",
    "print(my_dog.breed)"
   ]
  },
  {
   "cell_type": "code",
   "execution_count": 28,
   "id": "afb9e92c",
   "metadata": {},
   "outputs": [
    {
     "name": "stdout",
     "output_type": "stream",
     "text": [
      "True\n",
      "False\n"
     ]
    }
   ],
   "source": [
    "class Calculation1():\n",
    "    def Summation(self,a,b):\n",
    "        return a+b\n",
    "    \n",
    "class Calculation2():\n",
    "    def Multiplication(self,a,b):\n",
    "        return a*b\n",
    "    \n",
    "class Derived(Calculation1,Calculation2):\n",
    "    def Divide(self,a,b):\n",
    "        return a/b;\n",
    "\n",
    "d=Derived()\n",
    "print(issubclass(Derived,Calculation2))\n",
    "print(issubclass(Calculation1,Calculation2))"
   ]
  },
  {
   "cell_type": "code",
   "execution_count": 29,
   "id": "b3b765df",
   "metadata": {},
   "outputs": [
    {
     "name": "stdout",
     "output_type": "stream",
     "text": [
      "Initializing A\n",
      "Initializing C\n",
      "Initializing B\n",
      "Initializing D\n",
      "Help on class D in module __main__:\n",
      "\n",
      "class D(B, C)\n",
      " |  Method resolution order:\n",
      " |      D\n",
      " |      B\n",
      " |      C\n",
      " |      A\n",
      " |      builtins.object\n",
      " |  \n",
      " |  Methods defined here:\n",
      " |  \n",
      " |  __init__(self)\n",
      " |      Initialize self.  See help(type(self)) for accurate signature.\n",
      " |  \n",
      " |  ----------------------------------------------------------------------\n",
      " |  Data descriptors inherited from A:\n",
      " |  \n",
      " |  __dict__\n",
      " |      dictionary for instance variables\n",
      " |  \n",
      " |  __weakref__\n",
      " |      list of weak references to the object\n",
      "\n"
     ]
    }
   ],
   "source": [
    "class A:\n",
    "    def __init__(self):\n",
    "        print('Initializing A')\n",
    "\n",
    "class B(A):\n",
    "    def __init__(self):\n",
    "        super().__init__()\n",
    "        print('Initializing B')\n",
    "\n",
    "class C(A):\n",
    "    def __init__(self):\n",
    "        super().__init__()\n",
    "        print('Initializing C')\n",
    "\n",
    "class D(B,C):\n",
    "    def __init__(self):\n",
    "        super().__init__()\n",
    "        print('Initializing D')\n",
    "\n",
    "d=D()\n",
    "help(D)"
   ]
  },
  {
   "cell_type": "code",
   "execution_count": 32,
   "id": "71d96d34",
   "metadata": {},
   "outputs": [
    {
     "name": "stdout",
     "output_type": "stream",
     "text": [
      "56\n",
      "30\n",
      "10\n"
     ]
    }
   ],
   "source": [
    "#overloading\n",
    "\n",
    "def sum(a=None,b=None,c=None):\n",
    "\n",
    "    if a!=None and b!=None and c!=None:\n",
    "        c=a+b+c\n",
    "    elif a!=None and b!=None:\n",
    "        c=a+b\n",
    "    else:\n",
    "        c=a\n",
    "    \n",
    "    print(c)\n",
    "\n",
    "a=int(input('a='))\n",
    "sum(a,20,30)\n",
    "sum(10,20)\n",
    "sum(10)"
   ]
  },
  {
   "cell_type": "code",
   "execution_count": 36,
   "id": "087a77e3",
   "metadata": {},
   "outputs": [
    {
     "name": "stdout",
     "output_type": "stream",
     "text": [
      "108\n",
      "ShinzouWoSasageyo\n"
     ]
    }
   ],
   "source": [
    "#function to take multiple arguments\n",
    "\n",
    "def add(datatype,*args):\n",
    "\n",
    "    #if datatype is int, initialize as 0\n",
    "    if datatype=='int':\n",
    "        answer=0\n",
    "    \n",
    "    #if type is str, initialize as ''\n",
    "    if datatype=='str':\n",
    "        answer=''\n",
    "\n",
    "    #traverse through the arguments\n",
    "    for x in args:\n",
    "        #this will do addition if int, concatenation if str\n",
    "\n",
    "        answer=answer+x\n",
    "\n",
    "    print(answer)\n",
    "\n",
    "add('int',6,36,66)\n",
    "add('str','Shinzou','Wo','Sasageyo')"
   ]
  },
  {
   "cell_type": "code",
   "execution_count": 37,
   "id": "78ec454d",
   "metadata": {},
   "outputs": [],
   "source": [
    "#OVERLOADING                                                              #OVERRIDING\n",
    "\n",
    "#Methods & functions muat have same name & different signatures           Methods or functions must have same name & signatures\n",
    "\n",
    "#Compile time polymorphism                                                Run time polymorphism\n",
    "\n",
    "#Inheritance may or may not be required                                   Inheritance always required\n",
    "\n",
    "#Used to add more to behaviour of methods                                 Used to change behaviour of existing methods\n",
    "\n",
    "#there is no need of more than one class                                  Need of at least two classes"
   ]
  },
  {
   "cell_type": "code",
   "execution_count": 41,
   "id": "bf49d8c0",
   "metadata": {},
   "outputs": [
    {
     "ename": "TypeError",
     "evalue": "Can't instantiate abstract class Triangle with abstract method noofsides",
     "output_type": "error",
     "traceback": [
      "\u001b[1;31m---------------------------------------------------------------------------\u001b[0m",
      "\u001b[1;31mTypeError\u001b[0m                                 Traceback (most recent call last)",
      "Cell \u001b[1;32mIn[41], line 18\u001b[0m\n\u001b[0;32m     15\u001b[0m     \u001b[38;5;28;01mdef\u001b[39;00m \u001b[38;5;21mnofsides\u001b[39m(\u001b[38;5;28mself\u001b[39m):\n\u001b[0;32m     16\u001b[0m         \u001b[38;5;28mprint\u001b[39m(\u001b[38;5;124m'\u001b[39m\u001b[38;5;124mI have 3 sides\u001b[39m\u001b[38;5;124m'\u001b[39m)\n\u001b[1;32m---> 18\u001b[0m s\u001b[38;5;241m=\u001b[39mTriangle()\n\u001b[0;32m     19\u001b[0m s\u001b[38;5;241m.\u001b[39mnoofsides()\n",
      "\u001b[1;31mTypeError\u001b[0m: Can't instantiate abstract class Triangle with abstract method noofsides"
     ]
    }
   ],
   "source": [
    "#Python Abstraction\n",
    "\n",
    "from abc import ABC, abstractmethod\n",
    "\n",
    "class Polygon(ABC):\n",
    "\n",
    "    @abstractmethod\n",
    "    def noofsides(self):\n",
    "        pass\n",
    "\n",
    "class Triangle(Polygon):\n",
    "\n",
    "    #overriding Abstract method\n",
    "\n",
    "    def nofsides(self):\n",
    "        print('I have 3 sides')\n",
    "\n",
    "s=Triangle()\n",
    "s.noofsides()"
   ]
  },
  {
   "cell_type": "code",
   "execution_count": 45,
   "id": "aa6bcd24",
   "metadata": {},
   "outputs": [
    {
     "name": "stdout",
     "output_type": "stream",
     "text": [
      "Name:  Eren Yeager\n",
      "Roll No:  17\n",
      "Marks:  75\n",
      "Grade is:  B\n",
      "Name:  Mikasa Ackermann\n",
      "Roll No:  18\n",
      "Marks:  95\n",
      "Grade is:  A\n"
     ]
    }
   ],
   "source": [
    "class Student:\n",
    "\n",
    "    def __init__(self,name,rollno,marks):\n",
    "        self.name=name\n",
    "        self.rollno=rollno\n",
    "        self.marks=marks\n",
    "\n",
    "    def get_grade(self):\n",
    "\n",
    "        grade=''\n",
    "        if self.marks>90:\n",
    "            grade='A'\n",
    "        elif self.marks>80 or self.marks<=90:\n",
    "            grade='B'\n",
    "        else:\n",
    "            grade='C'\n",
    "\n",
    "        return grade\n",
    "\n",
    "    def display(self):\n",
    "\n",
    "        grade = self.get_grade()\n",
    "\n",
    "        print(\"Name: \",self.name)\n",
    "        print(\"Roll No: \",self.rollno)\n",
    "        print(\"Marks: \",self.marks)\n",
    "        print(\"Grade is: \",grade)\n",
    "\n",
    "    \n",
    "    \n",
    "s1=Student('Eren Yeager',17,75)\n",
    "s2=Student('Mikasa Ackermann',18,95)\n",
    "s1.display()\n",
    "s2.display()"
   ]
  },
  {
   "cell_type": "code",
   "execution_count": null,
   "id": "b407b5f0",
   "metadata": {},
   "outputs": [],
   "source": []
  }
 ],
 "metadata": {
  "kernelspec": {
   "display_name": "base",
   "language": "python",
   "name": "python3"
  },
  "language_info": {
   "codemirror_mode": {
    "name": "ipython",
    "version": 3
   },
   "file_extension": ".py",
   "mimetype": "text/x-python",
   "name": "python",
   "nbconvert_exporter": "python",
   "pygments_lexer": "ipython3",
   "version": "3.11.7"
  }
 },
 "nbformat": 4,
 "nbformat_minor": 5
}
