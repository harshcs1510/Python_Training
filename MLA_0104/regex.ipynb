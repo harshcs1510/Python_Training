{
 "cells": [
  {
   "cell_type": "code",
   "execution_count": null,
   "metadata": {},
   "outputs": [],
   "source": [
    "#SPECIAL SEQUENCES\n",
    "\n",
    "# \\A "
   ]
  },
  {
   "cell_type": "code",
   "execution_count": 1,
   "metadata": {},
   "outputs": [],
   "source": [
    "#METACHARACTERS\n",
    "\n",
    "# [] --> set of characters\n",
    "\n",
    "# \\ --> signals a special sequence (can also be used to escape special characters)\n",
    "\n",
    "# . --> Any character (except newline)\n",
    "\n",
    "# ^ --> starts with\n",
    "\n",
    "# $ --> ends with\n",
    "\n",
    "# * --> zero or more occurences\n",
    "\n",
    "# + --> one or more characters\n",
    "\n",
    "# {} --> exactly the specified no. of sequemces\n",
    "\n",
    "# | --> either or\n",
    "\n",
    "# () --> capture and group"
   ]
  },
  {
   "cell_type": "code",
   "execution_count": 3,
   "metadata": {},
   "outputs": [
    {
     "name": "stdout",
     "output_type": "stream",
     "text": [
      "['ab', 'abbb', 'abb', 'a']\n"
     ]
    }
   ],
   "source": [
    "import re\n",
    "print(re.findall(r'ab*','ab abbb abb a'))"
   ]
  },
  {
   "cell_type": "code",
   "execution_count": 4,
   "metadata": {},
   "outputs": [
    {
     "name": "stdout",
     "output_type": "stream",
     "text": [
      "['aa', 'aa']\n"
     ]
    }
   ],
   "source": [
    "print(re.findall(r'a{2}','a aa aaa'))"
   ]
  },
  {
   "cell_type": "code",
   "execution_count": 5,
   "metadata": {},
   "outputs": [
    {
     "name": "stdout",
     "output_type": "stream",
     "text": [
      "['a', 'aa', 'aa']\n"
     ]
    }
   ],
   "source": [
    "print(re.findall(r'a{1,2}', 'a aa aa'))"
   ]
  },
  {
   "cell_type": "code",
   "execution_count": 6,
   "metadata": {},
   "outputs": [
    {
     "name": "stdout",
     "output_type": "stream",
     "text": [
      "['e', 'o', 'o']\n"
     ]
    }
   ],
   "source": [
    "print(re.findall(r'[aeiou]','Hello world'))"
   ]
  },
  {
   "cell_type": "code",
   "execution_count": 8,
   "metadata": {},
   "outputs": [
    {
     "name": "stdout",
     "output_type": "stream",
     "text": [
      "<re.Match object; span=(0, 8), match='DEV25001'>\n",
      "['DEV25001']\n"
     ]
    }
   ],
   "source": [
    "s='DEV25001'\n",
    "\n",
    "pattern='[A-Z]{3}[0-9]{2}[0-9]{3}'\n",
    "\n",
    "print(re.match(pattern,s))\n",
    "print(re.findall(pattern,s))"
   ]
  },
  {
   "cell_type": "code",
   "execution_count": 9,
   "metadata": {},
   "outputs": [
    {
     "name": "stdout",
     "output_type": "stream",
     "text": [
      "['ai', 'ai']\n"
     ]
    }
   ],
   "source": [
    "txt=\"the rain in spain\"\n",
    "x=re.findall(\"ai\",txt)\n",
    "\n",
    "print(x)"
   ]
  },
  {
   "cell_type": "code",
   "execution_count": 10,
   "metadata": {},
   "outputs": [
    {
     "name": "stdout",
     "output_type": "stream",
     "text": [
      "in txt\n"
     ]
    }
   ],
   "source": [
    "txt=\"the rain in rain\"\n",
    "x=re.search(\"rain\",txt)\n",
    "\n",
    "if x:\n",
    "    print(\"in txt\")\n",
    "else:\n",
    "    print(\"no match\")"
   ]
  },
  {
   "cell_type": "code",
   "execution_count": 11,
   "metadata": {},
   "outputs": [
    {
     "name": "stdout",
     "output_type": "stream",
     "text": [
      "['The', 'rain', 'in', 'Spain']\n",
      "['The', 'rain', 'in Spain']\n"
     ]
    }
   ],
   "source": [
    "txt='The rain in Spain'\n",
    "x=re.split('\\s',txt) #--> normal split() cannot accept patterns. re.split() can accept pattern\n",
    "print(x)\n",
    "y=re.split('\\s',txt,2) #--> max_split\n",
    "print(y)"
   ]
  },
  {
   "cell_type": "code",
   "execution_count": 12,
   "metadata": {},
   "outputs": [
    {
     "name": "stdout",
     "output_type": "stream",
     "text": [
      "This is a string with special characters\n"
     ]
    }
   ],
   "source": [
    "import re\n",
    "\n",
    "s='This is a #string with special^ characters!'\n",
    "pattern=r'[^a-zA-Z0-9\\s]+'\n",
    "\n",
    "#replace all non-alphanumeric characters and whitespace\n",
    "new_string=re.sub(pattern,'',s)\n",
    "\n",
    "print(new_string)"
   ]
  },
  {
   "cell_type": "code",
   "execution_count": 14,
   "metadata": {},
   "outputs": [
    {
     "data": {
      "text/plain": [
       "['12', '20']"
      ]
     },
     "execution_count": 14,
     "metadata": {},
     "output_type": "execute_result"
    }
   ],
   "source": [
    "s='I have 12 apples and 20 bananas'\n",
    "\n",
    "pattern='[0-9]+'\n",
    "x=re.findall(pattern,s)\n",
    "x"
   ]
  },
  {
   "cell_type": "code",
   "execution_count": 15,
   "metadata": {},
   "outputs": [
    {
     "name": "stdout",
     "output_type": "stream",
     "text": [
      "<re.Match object; span=(0, 2), match='hi'>\n",
      "<re.Match object; span=(0, 2), match='hi'>\n"
     ]
    }
   ],
   "source": [
    "s='hi say hi to everyone'\n",
    "print(re.match('hi',s))\n",
    "print(re.search('hi',s))"
   ]
  },
  {
   "cell_type": "code",
   "execution_count": 16,
   "metadata": {},
   "outputs": [
    {
     "name": "stdout",
     "output_type": "stream",
     "text": [
      "first match: 9876\n",
      "all matches: ['9876', '1234']\n"
     ]
    }
   ],
   "source": [
    "txt=\"My number is 9876 and my friend's is 1234\"\n",
    "\n",
    "first_match=re.search(r'\\d+',txt)\n",
    "print('first match:',first_match.group())\n",
    "\n",
    "all_matches=re.findall(r'\\d+',txt)\n",
    "print('all matches:',all_matches)"
   ]
  },
  {
   "cell_type": "code",
   "execution_count": 17,
   "metadata": {},
   "outputs": [
    {
     "name": "stdout",
     "output_type": "stream",
     "text": [
      "Capitalized Words: ['Python', 'Guido', 'Rossum', 'Netherlands']\n"
     ]
    }
   ],
   "source": [
    "txt='Python is developed by Guido van Rossum in Netherlands'\n",
    "\n",
    "cap_words=re.findall(r'\\b[A-Z][a-z]*\\b',txt)\n",
    "print('Capitalized Words:',cap_words)"
   ]
  },
  {
   "cell_type": "code",
   "execution_count": 18,
   "metadata": {},
   "outputs": [
    {
     "name": "stdout",
     "output_type": "stream",
     "text": [
      "The cost is 10 dollars and 14 cents\n"
     ]
    }
   ],
   "source": [
    "def double_nums(match):\n",
    "    num=int(match.group())\n",
    "    return str(num*2)\n",
    "\n",
    "txt='The cost is 5 dollars and 7 cents'\n",
    "res=re.sub(r'\\d+',double_nums,txt)\n",
    "\n",
    "print(res)"
   ]
  },
  {
   "cell_type": "code",
   "execution_count": 19,
   "metadata": {},
   "outputs": [
    {
     "name": "stdout",
     "output_type": "stream",
     "text": [
      "You are such a [censored] and a [censored]\n"
     ]
    }
   ],
   "source": [
    "txt='You are such a fool and a dummy'\n",
    "bad_words=r'\\bfool|dummy\\b'\n",
    "censored=re.sub(bad_words,'[censored]',txt)\n",
    "\n",
    "print(censored)"
   ]
  },
  {
   "cell_type": "code",
   "execution_count": 22,
   "metadata": {},
   "outputs": [
    {
     "name": "stdout",
     "output_type": "stream",
     "text": [
      "Full match: Name: John, Age: 30\n",
      "Name: John\n",
      "Age: 30\n"
     ]
    }
   ],
   "source": [
    "txt='Name: John, Age: 30'\n",
    "match=re.search(r\"Name: (\\w+), Age: (\\d+)\",txt)\n",
    "\n",
    "if match:\n",
    "    print(\"Full match:\",match.group(0)) #full match\n",
    "    print(\"Name:\", match.group(1)) #first grp (\\w+)\n",
    "    print(\"Age:\", match.group(2)) #second grp (\\d+)\n"
   ]
  },
  {
   "cell_type": "code",
   "execution_count": 23,
   "metadata": {},
   "outputs": [
    {
     "name": "stdout",
     "output_type": "stream",
     "text": [
      "['apple', 'banana', 'grape', 'orange']\n"
     ]
    }
   ],
   "source": [
    "txt='apple,banana;grape orange'\n",
    "result=re.split(r'[;,\\s]+',txt)\n",
    "print(result)"
   ]
  },
  {
   "cell_type": "code",
   "execution_count": 24,
   "metadata": {},
   "outputs": [
    {
     "name": "stdout",
     "output_type": "stream",
     "text": [
      "('# # #', 3)\n",
      "<class 'tuple'>\n"
     ]
    }
   ],
   "source": [
    "res=re.subn(r'\\d+','#','123 456 789')\n",
    "print(res)\n",
    "print(type(res))"
   ]
  },
  {
   "cell_type": "code",
   "execution_count": 25,
   "metadata": {},
   "outputs": [
    {
     "name": "stdout",
     "output_type": "stream",
     "text": [
      "['123', '456']\n"
     ]
    }
   ],
   "source": [
    "pattern=re.compile(r'\\d+')\n",
    "print(pattern.findall('123 456')) #Output: ['123', '456']"
   ]
  },
  {
   "cell_type": "code",
   "execution_count": 29,
   "metadata": {},
   "outputs": [
    {
     "name": "stdout",
     "output_type": "stream",
     "text": [
      "Valid\n"
     ]
    }
   ],
   "source": [
    "pattern=r'^[a-zA-Z0-9]+.+@[a-zA-Z0-9]+\\.[a-zA-Z]{2,}$'\n",
    "s=input()\n",
    "\n",
    "if re.match(pattern,s):\n",
    "    print('Valid')\n",
    "else:\n",
    "    print('Invalid')\n"
   ]
  },
  {
   "cell_type": "code",
   "execution_count": 32,
   "metadata": {},
   "outputs": [
    {
     "name": "stdout",
     "output_type": "stream",
     "text": [
      "<re.Match object; span=(0, 6), match='Python'>\n",
      "None\n",
      "None\n",
      "<re.Match object; span=(0, 6), match='Python'>\n",
      "None\n"
     ]
    }
   ],
   "source": [
    "txt='Python'\n",
    "\n",
    "#match\n",
    "print(re.match(r'Python',txt)) #matches: starts with python\n",
    "print(re.match(r'\\d+',txt))  #no match: doesnt start with digits\n",
    "\n",
    "#fullmatch\n",
    "print(re.fullmatch(r'Python\\d+',txt)) #matches whole string\n",
    "print(re.fullmatch(r'Python',txt)) #no match: doesb't match entire string\n",
    "\n",
    "#search\n",
    "print(re.search(r'\\d+', txt)) #finds digits anywhere in the string"
   ]
  },
  {
   "cell_type": "code",
   "execution_count": 33,
   "metadata": {},
   "outputs": [
    {
     "name": "stdout",
     "output_type": "stream",
     "text": [
      "Found: Python 3.8 at position: (0, 10)\n",
      "Found: Python 3.9 at position: (37, 47)\n"
     ]
    }
   ],
   "source": [
    "import re\n",
    "text = \"Python 3.8 was released in 2019, and Python 3.9 in 2020.\"\n",
    " \n",
    "#Find all python versions mentioned.\n",
    "pattern = re.finditer(r'Python \\d\\.\\d', text)\n",
    " \n",
    "for match in pattern:\n",
    "    print(\"Found:\", match.group(), \"at position:\", match.span())"
   ]
  },
  {
   "cell_type": "code",
   "execution_count": 35,
   "metadata": {},
   "outputs": [
    {
     "name": "stdout",
     "output_type": "stream",
     "text": [
      "<re.Match object; span=(0, 5), match='Hello'>\n"
     ]
    }
   ],
   "source": [
    "txt='Hello World' \n",
    "pattern=re.compile(r'hello', re.IGNORECASE)\n",
    "match=pattern.search(txt)\n",
    "print(match)"
   ]
  },
  {
   "cell_type": "code",
   "execution_count": 36,
   "metadata": {},
   "outputs": [
    {
     "name": "stdout",
     "output_type": "stream",
     "text": [
      "Hello\n",
      "World\n"
     ]
    }
   ],
   "source": [
    "txt='Hello\\nWorld'\n",
    "pattern=re.compile(r'Hello.World',re.DOTALL)\n",
    "match=pattern.search(txt)\n",
    "print(match.group())"
   ]
  },
  {
   "cell_type": "code",
   "execution_count": 37,
   "metadata": {},
   "outputs": [
    {
     "name": "stdout",
     "output_type": "stream",
     "text": [
      "user@example.com\n"
     ]
    }
   ],
   "source": [
    "pattern=re.compile(r'''\n",
    "        ^                       #Start of string\n",
    "        [A-Za-z0-9._%+-]+       #Usermame: One or more valid chars\n",
    "        @                       #@ symbol\n",
    "        [A-Za-z0-9.-]+          #Domain name: One or more valid chars\n",
    "        \\.                      #Literal dot\n",
    "        [A-Za-z]{2,}            #Top-level domain: At least 2 letters\n",
    "        $                       #End of string\n",
    "''', re.VERBOSE)\n",
    "\n",
    "txt='user@example.com'\n",
    "match=pattern.match(txt)\n",
    "print(match.group() if match else 'No match')"
   ]
  },
  {
   "cell_type": "code",
   "execution_count": 46,
   "metadata": {},
   "outputs": [
    {
     "name": "stdout",
     "output_type": "stream",
     "text": [
      "<re.Match object; span=(0, 10), match='9140435170'>\n"
     ]
    }
   ],
   "source": [
    "phno=input()\n",
    "\n",
    "pattern=r'^\\d{10}$'\n",
    "\n",
    "print(re.match(pattern,phno))"
   ]
  },
  {
   "cell_type": "code",
   "execution_count": null,
   "metadata": {},
   "outputs": [],
   "source": []
  }
 ],
 "metadata": {
  "language_info": {
   "name": "python"
  }
 },
 "nbformat": 4,
 "nbformat_minor": 2
}
