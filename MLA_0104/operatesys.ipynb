{
 "cells": [
  {
   "cell_type": "code",
   "execution_count": null,
   "id": "d5153167",
   "metadata": {},
   "outputs": [],
   "source": []
  },
  {
   "cell_type": "code",
   "execution_count": 5,
   "id": "db622433",
   "metadata": {},
   "outputs": [
    {
     "name": "stdout",
     "output_type": "stream",
     "text": [
      "c:\\Users\\harsh.shetty\\MLA_0104\n"
     ]
    }
   ],
   "source": [
    "#os\n",
    "\n",
    "#get current working directory\n",
    "\n",
    "import os\n",
    "print(os.getcwd())\n",
    "\n",
    "#change the directory\n",
    "#os.chdir('../')\n",
    "\n",
    "#rename directory\n",
    "#os.rename()\n",
    "\n",
    "#remove file\n",
    "path=os.path.join('c:\\\\Users\\\\harsh.shetty\\\\MLA_0104','opsys.ipynb')\n",
    "#os.remove(path)"
   ]
  },
  {
   "cell_type": "code",
   "execution_count": 7,
   "id": "21a9f5c8",
   "metadata": {},
   "outputs": [
    {
     "name": "stdout",
     "output_type": "stream",
     "text": [
      "1743496862.0692327\n",
      "2025-04-01 14:11:02.069233\n"
     ]
    }
   ],
   "source": [
    "from datetime import datetime\n",
    "mod=os.stat('day01.py').st_mtime\n",
    "print(mod)\n",
    "print(datetime.fromtimestamp(mod))"
   ]
  },
  {
   "cell_type": "code",
   "execution_count": 12,
   "id": "ff035292",
   "metadata": {},
   "outputs": [
    {
     "name": "stdout",
     "output_type": "stream",
     "text": [
      "Mon Apr  7 16:35:23 2025\n",
      "time.struct_time(tm_year=2025, tm_mon=4, tm_mday=7, tm_hour=16, tm_min=35, tm_sec=23, tm_wday=0, tm_yday=97, tm_isdst=0)\n",
      "2025-04-07 16:35:23\n"
     ]
    }
   ],
   "source": [
    "import time\n",
    "\n",
    "print(time.ctime())\n",
    "\n",
    "print(time.localtime())\n",
    "\n",
    "print(time.strftime(\"%Y-%m-%d %H:%M:%S\",time.localtime()))"
   ]
  },
  {
   "cell_type": "code",
   "execution_count": 11,
   "id": "fd8d202a",
   "metadata": {},
   "outputs": [
    {
     "data": {
      "text/plain": [
       "3.0013504999997167"
      ]
     },
     "execution_count": 11,
     "metadata": {},
     "output_type": "execute_result"
    }
   ],
   "source": [
    "start_time=time.perf_counter()\n",
    "time.sleep(3)\n",
    "end_time=time.perf_counter()\n",
    "end_time-start_time"
   ]
  },
  {
   "cell_type": "code",
   "execution_count": 15,
   "id": "18289774",
   "metadata": {},
   "outputs": [
    {
     "name": "stdout",
     "output_type": "stream",
     "text": [
      "4.401389600001494\n"
     ]
    }
   ],
   "source": [
    "def test():\n",
    "    return sum([i for i in range(10000)])\n",
    "\n",
    "import timeit\n",
    "print(timeit.timeit(test,number=10000))"
   ]
  },
  {
   "cell_type": "code",
   "execution_count": null,
   "id": "e513afbd",
   "metadata": {},
   "outputs": [
    {
     "name": "stdout",
     "output_type": "stream",
     "text": [
      "Mon Apr  7 17:05:27 2025\n",
      "Mon Apr  7 17:05:28 2025\n",
      "Mon Apr  7 17:05:29 2025\n",
      "Mon Apr  7 17:05:30 2025\n",
      "Mon Apr  7 17:05:31 2025\n"
     ]
    }
   ],
   "source": [
    "#current time every second\n",
    "\n",
    "for _ in range(5):\n",
    "    print(time.ctime())\n",
    "    time.sleep(1)"
   ]
  },
  {
   "cell_type": "code",
   "execution_count": 20,
   "id": "96bc1413",
   "metadata": {},
   "outputs": [
    {
     "name": "stdout",
     "output_type": "stream",
     "text": [
      "2025-04\n"
     ]
    }
   ],
   "source": [
    "print(time.strftime(\"%Y-%m\"))"
   ]
  },
  {
   "cell_type": "code",
   "execution_count": 23,
   "id": "85c2cccc",
   "metadata": {},
   "outputs": [
    {
     "name": "stdout",
     "output_type": "stream",
     "text": [
      "Time Elapsed: 10 seconds\r"
     ]
    }
   ],
   "source": [
    "def stopwatch(n):\n",
    "    for i in range(1,n+1):\n",
    "        print(f'Time Elapsed: {i} seconds', end='\\r')\n",
    "        time.sleep(1)\n",
    "\n",
    "stopwatch(10)"
   ]
  },
  {
   "cell_type": "code",
   "execution_count": 25,
   "id": "7c1136dc",
   "metadata": {},
   "outputs": [
    {
     "data": {
      "text/plain": [
       "'22-11-19'"
      ]
     },
     "execution_count": 25,
     "metadata": {},
     "output_type": "execute_result"
    }
   ],
   "source": [
    "import datetime\n",
    "\n",
    "def convert(date):\n",
    "    d=datetime.datetime.strptime(date,'%Y-%m-%d')\n",
    "    return d.strftime('%d-%m-%y')\n",
    "\n",
    "convert('2019-11-22')"
   ]
  },
  {
   "cell_type": "code",
   "execution_count": 29,
   "id": "7d6daf26",
   "metadata": {},
   "outputs": [
    {
     "data": {
      "text/plain": [
       "[{'full name': 'Jurixicpwkxqd Pcxufcjgrpubx',\n",
       "  'age': 42,\n",
       "  'phone no': '5897873298',\n",
       "  'email': 'Jurixicpwkxqd.Pcxufcjgrpubx@tlgmyxzprzo.com'},\n",
       " {'full name': 'Ylqytggdfiqkhytjujy Guzedsmwutmvcgwbwxi',\n",
       "  'age': 48,\n",
       "  'phone no': '2087840674',\n",
       "  'email': 'Ylqytggdfiqkhytjujy.Guzedsmwutmvcgwbwxi@qbjrc.com'},\n",
       " {'full name': 'Zmthibhotvjylcceeqxf Rkjlmuvhwocbikfvoprr',\n",
       "  'age': 50,\n",
       "  'phone no': '0554535615',\n",
       "  'email': 'Zmthibhotvjylcceeqxf.Rkjlmuvhwocbikfvoprr@dhpgskbsuqyqswt.com'},\n",
       " {'full name': 'Pxxdtxmkqszeyflvzobo Rinckzrgizfxuowbaqax',\n",
       "  'age': 46,\n",
       "  'phone no': '5741131372',\n",
       "  'email': 'Pxxdtxmkqszeyflvzobo.Rinckzrgizfxuowbaqax@sdohbtjfxdhdwkfap.com'},\n",
       " {'full name': 'Vsagscokuxp Uhryicpmcwt',\n",
       "  'age': 39,\n",
       "  'phone no': '8753006796',\n",
       "  'email': 'Vsagscokuxp.Uhryicpmcwt@iumrapanf.com'}]"
      ]
     },
     "execution_count": 29,
     "metadata": {},
     "output_type": "execute_result"
    }
   ],
   "source": [
    "import random\n",
    "\n",
    "def data_gen(users):\n",
    "    ls=[]\n",
    "    \n",
    "    for i in range(len(users)):\n",
    "        dic={}\n",
    "        n=random.randint(10,20)\n",
    "        fn=random.choice('QWERTYUIOPASDFGHJKLZXCVBNM')\n",
    "        sn=random.choice('QWERTYUIOPASDFGHJKLZXCVBNM')\n",
    "        for _ in range(n):\n",
    "            fn+=random.choice('qwertyuiopasdfghjklzxcvbnm')\n",
    "            sn+=random.choice('qwertyuiopasdfghjklzxcvbnm')\n",
    "        dic['full name']=fn+' '+sn\n",
    "\n",
    "        dic['age']=random.randint(18,60)\n",
    "        phno=''\n",
    "        for _ in range(10):\n",
    "            phno+=random.choice('1234567890')\n",
    "        dic['phone no']=phno\n",
    "        domain=''\n",
    "        a=random.randint(5,20)\n",
    "        for _ in range(a):\n",
    "            domain+=random.choice('qwertyuiopasdfghjklzxcvbnm')  \n",
    "        dic['email']=fn+'.'+sn+'@'+domain+'.com'\n",
    "        ls.append(dic)\n",
    "\n",
    "    return ls\n",
    "    \n",
    "\n",
    "data_gen(['user1','user2','user3','user4','user5'])      "
   ]
  },
  {
   "cell_type": "code",
   "execution_count": null,
   "id": "e4b895f0",
   "metadata": {},
   "outputs": [],
   "source": []
  }
 ],
 "metadata": {
  "kernelspec": {
   "display_name": "base",
   "language": "python",
   "name": "python3"
  },
  "language_info": {
   "codemirror_mode": {
    "name": "ipython",
    "version": 3
   },
   "file_extension": ".py",
   "mimetype": "text/x-python",
   "name": "python",
   "nbconvert_exporter": "python",
   "pygments_lexer": "ipython3",
   "version": "3.11.7"
  }
 },
 "nbformat": 4,
 "nbformat_minor": 5
}
