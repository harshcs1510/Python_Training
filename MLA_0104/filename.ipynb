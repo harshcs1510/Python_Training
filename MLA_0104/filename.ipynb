{
 "cells": [
  {
   "cell_type": "code",
   "execution_count": 2,
   "metadata": {},
   "outputs": [
    {
     "name": "stdout",
     "output_type": "stream",
     "text": [
      "0\n",
      "1\n",
      "1\n",
      "2\n",
      "3\n",
      "5\n",
      "8\n",
      "13\n",
      "21\n",
      "34\n",
      "55\n"
     ]
    }
   ],
   "source": [
    "#fibonacci\n",
    "\n",
    "n=int(input('enter number'))\n",
    "a=0\n",
    "b=1\n",
    "print(a)\n",
    "print(b)\n",
    "for i in range(n-2):\n",
    "    s=a+b\n",
    "    print(s)\n",
    "    a=b\n",
    "    b=s\n"
   ]
  },
  {
   "cell_type": "code",
   "execution_count": null,
   "metadata": {},
   "outputs": [
    {
     "name": "stdout",
     "output_type": "stream",
     "text": [
      "h\n",
      "\n",
      "p\n",
      "y\n",
      "t\n",
      "o\n",
      "n\n",
      "\n"
     ]
    }
   ],
   "source": [
    "#break\n",
    "for i in 'python':\n",
    "    if i=='h':\n",
    "        print(i)\n",
    "        break\n",
    "\n",
    "print()\n",
    "        \n",
    "#continue -> bypass statement\n",
    "for i in 'python':\n",
    "    if i=='h':\n",
    "        continue\n",
    "    print(i)\n",
    "\n",
    "print()\n",
    "\n",
    "#pass -> placeholder statement\n",
    "for i in 'python':\n",
    "    pass"
   ]
  },
  {
   "cell_type": "code",
   "execution_count": 1,
   "metadata": {},
   "outputs": [
    {
     "name": "stdout",
     "output_type": "stream",
     "text": [
      "hello\n",
      "hello\n",
      "hello\n",
      "hello\n",
      "hello\n",
      "end\n"
     ]
    }
   ],
   "source": [
    "n=0\n",
    "while n<5:\n",
    "    print('hello')\n",
    "    n+=1\n",
    "else:\n",
    "    print('end')"
   ]
  },
  {
   "cell_type": "code",
   "execution_count": 30,
   "metadata": {},
   "outputs": [
    {
     "data": {
      "text/plain": [
       "15"
      ]
     },
     "execution_count": 30,
     "metadata": {},
     "output_type": "execute_result"
    }
   ],
   "source": [
    "a=3\n",
    "temp=a\n",
    "b=5\n",
    "for i in range(b-1):\n",
    "    a+=temp\n",
    "a"
   ]
  },
  {
   "cell_type": "code",
   "execution_count": 26,
   "metadata": {},
   "outputs": [
    {
     "name": "stdout",
     "output_type": "stream",
     "text": [
      "[1, 2, 3, 1, 2, 3, 1, 2, 3, 1, 2, 3]\n"
     ]
    }
   ],
   "source": [
    "l=[1,2,3]\n",
    "for j in range(2):\n",
    "    for i in range(len(l)):\n",
    "        l.append(l[i])\n",
    "print(l)"
   ]
  },
  {
   "cell_type": "code",
   "execution_count": 16,
   "metadata": {},
   "outputs": [
    {
     "name": "stdout",
     "output_type": "stream",
     "text": [
      "{1, 2, 3, 6, 7, 8}\n"
     ]
    },
    {
     "data": {
      "text/plain": [
       "{1, 2, 3, 6, 7, 8}"
      ]
     },
     "execution_count": 16,
     "metadata": {},
     "output_type": "execute_result"
    }
   ],
   "source": [
    "#symmetric difference\n",
    "a={1,2,3,4,5}\n",
    "b={4,5,6,7,8}\n",
    "\n",
    "#use ^ operator\n",
    "print(a^b)\n",
    "\n",
    "#function\n",
    "a.symmetric_difference(b)"
   ]
  },
  {
   "cell_type": "code",
   "execution_count": 15,
   "metadata": {},
   "outputs": [
    {
     "name": "stdout",
     "output_type": "stream",
     "text": [
      "{1, 2, 3, 4}\n",
      "{1, 2, 3, 4, 5, 6, 7, 8}\n"
     ]
    },
    {
     "data": {
      "text/plain": [
       "{1, 2, 3, 4, 5, 6, 7, 8}"
      ]
     },
     "execution_count": 15,
     "metadata": {},
     "output_type": "execute_result"
    }
   ],
   "source": [
    "#set-{}\n",
    "l=[1,2,2,3,3,4,4,4,4]\n",
    "print(set(l))\n",
    "\n",
    "#set union method\n",
    "a={1,2,3,4,5}\n",
    "b={4,5,6,7,8}\n",
    "\n",
    "#use | operator\n",
    "print(a|b)\n",
    "\n",
    "#union function\n",
    "a.union(b)"
   ]
  },
  {
   "cell_type": "code",
   "execution_count": 9,
   "metadata": {},
   "outputs": [
    {
     "data": {
      "text/plain": [
       "{'b': 15, 'c': 25}"
      ]
     },
     "execution_count": 9,
     "metadata": {},
     "output_type": "execute_result"
    }
   ],
   "source": [
    "d={'a':5,'b':15,'c':25,'d':8}\n",
    "d1={}\n",
    "\n",
    "for i in d:\n",
    "    if(d[i]>=10):\n",
    "        d1[i]=d[i]\n",
    "d1"
   ]
  },
  {
   "cell_type": "code",
   "execution_count": 38,
   "metadata": {},
   "outputs": [
    {
     "name": "stdout",
     "output_type": "stream",
     "text": [
      "{'Nadia': 2, 'a': 3, 'gentle': 1, 'turtle': 1, 'lives': 1, 'near': 1, 'moss-covered': 1, 'pond.': 1, 'Lizard': 2, 'makes': 1, 'fun': 1, 'of': 2, 'her': 2, 'shell': 1, 'that': 1, 'has': 1, 'fractured.': 1, 'He': 1, 'decides': 1, 'to': 1, 'poke': 1, 'more': 1, 'holes': 1, 'into': 1, 'armor.': 1, 'Swelling': 1, 'up': 1, 'with': 1, 'anger': 1, 'takes': 1, 'massive': 1, 'bite': 1, 'out': 1, 'tail.': 1}\n"
     ]
    }
   ],
   "source": [
    "s='Nadia a gentle turtle lives near a moss-covered pond. Lizard makes fun of her shell that has fractured. He decides to poke more holes into her armor. Swelling up with anger Nadia takes a massive bite out of Lizard tail.'\n",
    "s=s.split(' ')\n",
    "d={}\n",
    "for i in range(len(s)):\n",
    "    d[s[i]]=s.count(s[i])\n",
    "print(d)"
   ]
  },
  {
   "cell_type": "code",
   "execution_count": 29,
   "metadata": {},
   "outputs": [
    {
     "name": "stdout",
     "output_type": "stream",
     "text": [
      "{'name': 4, 'age': 3, 'height': 6, 'weight': 6, 'address': 7, 'education': 9, 'skills': 6, 'projects': 8, 'hobbies': 7}\n"
     ]
    }
   ],
   "source": [
    "l=['name','age','height','weight','address','education','skills','projects','hobbies']\n",
    "d={}\n",
    "for i in range(len(l)):\n",
    "    d[l[i]]=len(l[i])\n",
    "print(d)"
   ]
  },
  {
   "cell_type": "code",
   "execution_count": 2,
   "metadata": {},
   "outputs": [
    {
     "data": {
      "text/plain": [
       "{'name': 'abc', 'age': 10, 'std': '6th'}"
      ]
     },
     "execution_count": 2,
     "metadata": {},
     "output_type": "execute_result"
    }
   ],
   "source": [
    "k=['name','age','std']\n",
    "v=['abc',10,'6th']\n",
    "z=zip(k,v)\n",
    "l=dict(z)\n",
    "l\n",
    "# dict(z)"
   ]
  },
  {
   "cell_type": "code",
   "execution_count": 28,
   "metadata": {},
   "outputs": [
    {
     "name": "stdout",
     "output_type": "stream",
     "text": [
      "{'japan': 'tokyo', 'iceland': 'reykjavik', 'russia': 'moscow', 'greece': 'athens'}\n",
      "dict_keys(['japan', 'iceland', 'russia', 'greece'])\n",
      "dict_values(['tokyo', 'reykjavik', 'moscow', 'athens'])\n",
      "dict_items([('japan', 'tokyo'), ('iceland', 'reykjavik'), ('russia', 'moscow'), ('greece', 'athens')])\n",
      "<class 'dict_items'>\n"
     ]
    }
   ],
   "source": [
    "dict={}\n",
    "a=['japan','iceland','russia','greece']\n",
    "b=['tokyo','reykjavik','moscow','athens']\n",
    "for i in range(4):\n",
    "    dict[a[i]]=b[i]\n",
    "print(dict)\n",
    "print(dict.keys())\n",
    "print(dict.values())\n",
    "print(dict.items())\n",
    "print(type(dict.items()))"
   ]
  },
  {
   "cell_type": "code",
   "execution_count": 20,
   "metadata": {},
   "outputs": [
    {
     "name": "stdout",
     "output_type": "stream",
     "text": [
      "[1, 2, 3, 4, 5]\n",
      "{'name': 'hs', 'city': 'lucknow', '': 'age', '23': 'height'}\n"
     ]
    }
   ],
   "source": [
    "list=[]\n",
    "for i in range(5):\n",
    "    list.append(int(input('list element')))\n",
    "\n",
    "dict={}\n",
    "for i in range(4):\n",
    "    a=input('enter key')\n",
    "    dict[a]=input('enter value')\n",
    "\n",
    "print(list)\n",
    "print(dict)"
   ]
  },
  {
   "cell_type": "code",
   "execution_count": 16,
   "metadata": {},
   "outputs": [
    {
     "name": "stdout",
     "output_type": "stream",
     "text": [
      "ABB\n",
      "ABB\n"
     ]
    }
   ],
   "source": [
    "#dictionary\n",
    "\n",
    "d={'name':'abc','std':'ABB','height':5.8,'name':'ABB'}\n",
    "#d\n",
    "\n",
    "print(d['name'])\n",
    "print(d.get('name'))"
   ]
  },
  {
   "cell_type": "code",
   "execution_count": null,
   "metadata": {},
   "outputs": [
    {
     "name": "stdout",
     "output_type": "stream",
     "text": [
      "[3, 4, [999, 888, 1000]]\n",
      "[3, 4, [999, 888]]\n"
     ]
    }
   ],
   "source": [
    "#a=[3,4,[999,888]] copy method not useful for nested methods\n",
    "#b=a.copy()\n",
    "#b[2].append(1000)\n",
    "#print(b)\n",
    "#print(a)\n",
    "\n",
    "import copy\n",
    "\n",
    "a=[3,4,[999,888]]\n",
    "b=copy.deepcopy(a)\n",
    "b[2].append(1000)\n",
    "print(b)\n",
    "print(a)"
   ]
  },
  {
   "cell_type": "code",
   "execution_count": null,
   "metadata": {},
   "outputs": [
    {
     "name": "stdout",
     "output_type": "stream",
     "text": [
      "[3, 4]\n",
      "[3, 4, 5, 6]\n"
     ]
    }
   ],
   "source": [
    "#a=[3,4]\n",
    "#b=a\n",
    "#b+=[5,6]\n",
    "#print(a)\n",
    "#print(b)\n",
    "\n",
    "#copy shallow copy\n",
    "a=[3,4]\n",
    "b=a.copy()\n",
    "b+=[5,6]\n",
    "print(a)\n",
    "print(b)"
   ]
  },
  {
   "cell_type": "code",
   "execution_count": null,
   "metadata": {},
   "outputs": [
    {
     "data": {
      "text/plain": [
       "[0, 1]"
      ]
     },
     "execution_count": 9,
     "metadata": {},
     "output_type": "execute_result"
    }
   ],
   "source": [
    "# num=list(map(int,input().split()))\n",
    "\n",
    "size=int(input('Enter size of array'))\n",
    "list=[]\n",
    "for i in range(0,size):\n",
    "    n=int(input('enter array element'))\n",
    "    list.append(n)\n",
    "target=int(input('enter target'))\n",
    "res=[]\n",
    "for i in range(0,size):\n",
    "    for j in range(i+1,size):\n",
    "        if(list[i]+list[j]==target):\n",
    "            res.append(i)\n",
    "            res.append(j)\n",
    "            break\n",
    "res"
   ]
  },
  {
   "cell_type": "code",
   "execution_count": 4,
   "metadata": {},
   "outputs": [
    {
     "data": {
      "text/plain": [
       "(1, 2, 3, [2, 6])"
      ]
     },
     "execution_count": 4,
     "metadata": {},
     "output_type": "execute_result"
    }
   ],
   "source": [
    "t=(1,2,3,[2,5])\n",
    "\n",
    "t[-1][1]=6\n",
    "t"
   ]
  },
  {
   "cell_type": "code",
   "execution_count": 1,
   "metadata": {},
   "outputs": [
    {
     "data": {
      "text/plain": [
       "[2, 3, 5, 7, 11, 13, 17, 19, 23, 29, 31, 37, 41, 43, 47]"
      ]
     },
     "execution_count": 1,
     "metadata": {},
     "output_type": "execute_result"
    }
   ],
   "source": [
    "l=[]\n",
    "for i in range(1,50):\n",
    "    flag=0\n",
    "    for j in range(2,i):\n",
    "        if(i%j==0):\n",
    "            flag=1\n",
    "            break\n",
    "    if(flag==0 and i!=1):\n",
    "        l.append(i)\n",
    "l"
   ]
  },
  {
   "cell_type": "code",
   "execution_count": 26,
   "metadata": {},
   "outputs": [
    {
     "data": {
      "text/plain": [
       "[1, 2, 3, 4, 5, 10, 9, 8, 7, 6]"
      ]
     },
     "execution_count": 26,
     "metadata": {},
     "output_type": "execute_result"
    }
   ],
   "source": [
    "num=[1,2,3,4,5,6,7,8,9,10]\n",
    "n=len(num)\n",
    "#print(n)\n",
    "num1=num[:n//2]\n",
    "num2=num[n//2:]\n",
    "num2=num2[::-1]\n",
    "num=num1+num2\n",
    "#print(num1)\n",
    "#print(num2)\n",
    "num"
   ]
  },
  {
   "cell_type": "code",
   "execution_count": 14,
   "metadata": {},
   "outputs": [
    {
     "name": "stdout",
     "output_type": "stream",
     "text": [
      "[100, 120, 130, 140, 130, 110, 550, 660]\n",
      "[660, 110, 140, 120]\n"
     ]
    },
    {
     "data": {
      "text/plain": [
       "['re', 'rd', 're', 'rd', 're', 'rd']"
      ]
     },
     "execution_count": 14,
     "metadata": {},
     "output_type": "execute_result"
    }
   ],
   "source": [
    "l=[100,120,130,140,130,110]\n",
    "l=l+[550,660]\n",
    "print(l)\n",
    "\n",
    "print(l[::-2])\n",
    "\n",
    "s=['re','rd']*3\n",
    "s"
   ]
  },
  {
   "cell_type": "code",
   "execution_count": 11,
   "metadata": {},
   "outputs": [
    {
     "data": {
      "text/plain": [
       "[100, 120, 130, 140, 130, 110, 111, 222]"
      ]
     },
     "execution_count": 11,
     "metadata": {},
     "output_type": "execute_result"
    }
   ],
   "source": [
    "l=[100,120,130,140,130,110]\n",
    "#l.append([111,222])\n",
    "l.extend([111,222])\n",
    "l"
   ]
  },
  {
   "cell_type": "code",
   "execution_count": null,
   "metadata": {},
   "outputs": [
    {
     "name": "stdout",
     "output_type": "stream",
     "text": [
      "True\n",
      "[100, 120, 130, 333, 140, 130, 110, 777]\n",
      "[100, 120, 130, 140, 130, 110, 777]\n",
      "[100, 120, 140, 130, 110, 777]\n",
      "[100, 120, 140, 130, 110]\n"
     ]
    }
   ],
   "source": [
    "l=[100,120,130,140,130,110]\n",
    "l.append(777)\n",
    "l.insert(3,333) #index,value\n",
    "print(777 in l)\n",
    "print(l)\n",
    "\n",
    "l.remove(333) #deleting value\n",
    "print(l)\n",
    "l.pop(2)\n",
    "print(l)\n",
    "l.pop() #last value\n",
    "print(l)\n",
    "\n",
    "# del(l) completely deletes data structure from memory"
   ]
  },
  {
   "cell_type": "code",
   "execution_count": 7,
   "metadata": {},
   "outputs": [
    {
     "data": {
      "text/plain": [
       "999"
      ]
     },
     "execution_count": 7,
     "metadata": {},
     "output_type": "execute_result"
    }
   ],
   "source": [
    "li=[[1,2],['abc', 'xyz', [999,666]]]\n",
    "\n",
    "li[1][2][0]"
   ]
  },
  {
   "cell_type": "code",
   "execution_count": null,
   "metadata": {},
   "outputs": [
    {
     "name": "stdout",
     "output_type": "stream",
     "text": [
      "Perfect\n"
     ]
    }
   ],
   "source": [
    "#perfect no\n",
    "a=28\n",
    "res=0\n",
    "for i in range(1,a):\n",
    "    if(a%i==0):\n",
    "        res+=i\n",
    "if(res==a):\n",
    "    print('Perfect')\n",
    "else:\n",
    "    print('Not Perfect')"
   ]
  },
  {
   "cell_type": "code",
   "execution_count": 2,
   "metadata": {},
   "outputs": [
    {
     "name": "stdout",
     "output_type": "stream",
     "text": [
      "[130, 140]\n",
      "140\n",
      "[100, 120, 130, 140, 130, 110]\n",
      "[110, 130, 140, 130, 120, 100]\n",
      "[100, 120, 130, 140]\n",
      "6\n",
      "2\n"
     ]
    }
   ],
   "source": [
    "list=[100,120,130,140,130,110]\n",
    "\n",
    "print(list[2:4])\n",
    "print(list[-3])\n",
    "print(list[:])\n",
    "print(list[::-1])\n",
    "print(list[:-2])\n",
    "print(len(list))\n",
    "print(list.count(130))"
   ]
  },
  {
   "cell_type": "code",
   "execution_count": null,
   "metadata": {},
   "outputs": [
    {
     "name": "stdout",
     "output_type": "stream",
     "text": [
      "guindy\n",
      "6\n",
      "hen\n"
     ]
    }
   ],
   "source": [
    "city=['chennai-guindy','mumbai','delhi']\n",
    "print(city[0][8:])\n",
    "\n",
    "# 0 Chennai\n",
    "# 1 Mumbai\n",
    "# 2 Delhi\n",
    "\n",
    "print(len(city[1]))\n",
    "print(city[0][1:4])\n"
   ]
  },
  {
   "cell_type": "code",
   "execution_count": null,
   "metadata": {},
   "outputs": [
    {
     "name": "stdout",
     "output_type": "stream",
     "text": [
      "Armstrong\n"
     ]
    }
   ],
   "source": [
    "#armstrong no\n",
    "a=153\n",
    "temp=a\n",
    "res=0\n",
    "while(temp!=0):\n",
    "    l=temp%10\n",
    "    res+=(l*l*l)\n",
    "    temp//=10\n",
    "if(res==a):\n",
    "    print('Armstrong')\n",
    "else:\n",
    "    print('Not Armstrong')\n"
   ]
  },
  {
   "cell_type": "code",
   "execution_count": 99,
   "metadata": {},
   "outputs": [
    {
     "name": "stdout",
     "output_type": "stream",
     "text": [
      "2\n",
      "3\n",
      "5\n",
      "7\n",
      "11\n",
      "13\n",
      "17\n",
      "19\n",
      "23\n",
      "29\n",
      "31\n",
      "37\n",
      "41\n",
      "43\n",
      "47\n"
     ]
    }
   ],
   "source": [
    "for i in range(1,50):\n",
    "    flag=0\n",
    "    for j in range(2,i):\n",
    "        if(i%j==0):\n",
    "            flag=1\n",
    "            break\n",
    "    if(flag==0 and i!=1):\n",
    "        print(i)\n"
   ]
  },
  {
   "cell_type": "code",
   "execution_count": 88,
   "metadata": {},
   "outputs": [
    {
     "name": "stdout",
     "output_type": "stream",
     "text": [
      "no of vowels: 5\n",
      "no of consonants: 11\n"
     ]
    }
   ],
   "source": [
    "s=input()\n",
    "s=s.upper()\n",
    "vowels=0\n",
    "consonants=0\n",
    "for i in range(len(s)):\n",
    "    if(s[i] in 'AEIOU'):\n",
    "        vowels+=1\n",
    "    else:\n",
    "        consonants+=1\n",
    "print('no of vowels:', vowels)\n",
    "print('no of consonants:', consonants)\n"
   ]
  },
  {
   "cell_type": "code",
   "execution_count": 86,
   "metadata": {},
   "outputs": [
    {
     "name": "stdout",
     "output_type": "stream",
     "text": [
      "0 hello\n",
      "1 hello\n",
      "2 hello\n",
      "3 hello\n",
      "4 hello\n"
     ]
    }
   ],
   "source": [
    "for i in range(5):\n",
    "    print(i,'hello')\n",
    "\n"
   ]
  },
  {
   "cell_type": "code",
   "execution_count": 79,
   "metadata": {},
   "outputs": [
    {
     "name": "stdout",
     "output_type": "stream",
     "text": [
      "Consonant\n"
     ]
    }
   ],
   "source": [
    "ch='H'\n",
    "s='AEIOU'\n",
    "if(ch in s):\n",
    "    print('Vowel')\n",
    "else:\n",
    "    print('Consonant')"
   ]
  },
  {
   "cell_type": "code",
   "execution_count": 77,
   "metadata": {},
   "outputs": [
    {
     "name": "stdout",
     "output_type": "stream",
     "text": [
      "b is greatest\n"
     ]
    }
   ],
   "source": [
    "a=4\n",
    "b=5\n",
    "c=3\n",
    "if(a>b):\n",
    "    if(a>c):\n",
    "        print('a is greatest')\n",
    "if(b>c):\n",
    "    print('b is greatest')\n",
    "else:\n",
    "    print('c is greatest')    "
   ]
  },
  {
   "cell_type": "code",
   "execution_count": 71,
   "metadata": {},
   "outputs": [
    {
     "name": "stdout",
     "output_type": "stream",
     "text": [
      "No. is positive\n",
      "No. is positive\n",
      "No. is positive\n",
      "No. is positive\n"
     ]
    }
   ],
   "source": [
    "a=int(input('Enter a number'))\n",
    "if(a<0):\n",
    "    print('No. is negative')\n",
    "if(a>0):\n",
    "    print('No. is positive')\n",
    "if(a==0):\n",
    "    print('No. is zero')\n",
    "\n",
    "b=int(input('Enter a number'))\n",
    "if(b>0):\n",
    "    print('No. is positive')\n",
    "else:\n",
    "    print('No. is negative')\n",
    "\n",
    "c=int(input('Enter a number'))\n",
    "if(c>0):\n",
    "    print('No. is positive')\n",
    "elif(c<0):\n",
    "    print('No. is negative')\n",
    "else:\n",
    "    print('No. is zero')\n",
    "\n",
    "d=int(input('Enter a number'))\n",
    "if(d>=0):\n",
    "    if(d>0):\n",
    "        print('No. is positive')\n",
    "    else:\n",
    "        print('No. is zero')\n",
    "else:\n",
    "    print('No. is negative')"
   ]
  },
  {
   "cell_type": "code",
   "execution_count": 68,
   "metadata": {},
   "outputs": [
    {
     "name": "stdout",
     "output_type": "stream",
     "text": [
      "b is greater\n"
     ]
    }
   ],
   "source": [
    "#conditionals\n",
    "a=6\n",
    "b=36\n",
    "if a>b:\n",
    "    print(\"a is greater\")\n",
    "else:\n",
    "    print(\"b is greater\")\n"
   ]
  },
  {
   "cell_type": "code",
   "execution_count": 63,
   "metadata": {},
   "outputs": [
    {
     "name": "stdout",
     "output_type": "stream",
     "text": [
      "123498765\n"
     ]
    }
   ],
   "source": [
    "s='123456789'\n",
    "n=len(s)\n",
    "s1=s[0:n//2]\n",
    "s2=s[n//2:n]\n",
    "s2=s2[::-1]\n",
    "s=s1+s2\n",
    "print(s)"
   ]
  },
  {
   "cell_type": "code",
   "execution_count": 53,
   "metadata": {},
   "outputs": [
    {
     "name": "stdout",
     "output_type": "stream",
     "text": [
      "4\n",
      "14\n",
      "10\n",
      "-7\n",
      "<class 'complex'>\n"
     ]
    }
   ],
   "source": [
    "a=6\n",
    "b=12\n",
    "c=3+4j\n",
    "print(a&b)\n",
    "print(a|b)\n",
    "print(a^b)\n",
    "print(~a) #-(1+a)\n",
    "print(type(c))"
   ]
  },
  {
   "cell_type": "code",
   "execution_count": 51,
   "metadata": {},
   "outputs": [
    {
     "name": "stdout",
     "output_type": "stream",
     "text": [
      "True\n"
     ]
    }
   ],
   "source": [
    "s=\"winter is coming\"\n",
    "print('in' in s)"
   ]
  },
  {
   "cell_type": "code",
   "execution_count": 50,
   "metadata": {},
   "outputs": [
    {
     "name": "stdout",
     "output_type": "stream",
     "text": [
      "Chennai\n",
      "****chEnNAi****\n",
      "3\n"
     ]
    }
   ],
   "source": [
    "s='chEnNAi'\n",
    "print(s.capitalize())\n",
    "print(s.center(15,'*'))\n",
    "print(s.find('nN'))  #find(sub[, start[, end]])\n"
   ]
  },
  {
   "cell_type": "code",
   "execution_count": 49,
   "metadata": {},
   "outputs": [
    {
     "name": "stdout",
     "output_type": "stream",
     "text": [
      "8\n",
      "on sn\n",
      "wons noj\n"
     ]
    },
    {
     "data": {
      "text/plain": [
       "'jnso'"
      ]
     },
     "execution_count": 49,
     "metadata": {},
     "output_type": "execute_result"
    }
   ],
   "source": [
    "s=\"jon snow\"\n",
    "print(len(s))\n",
    "print(s[1:6]) #slice\n",
    "print(s[::-1]) #reverse\n",
    "s[0:8:2]"
   ]
  },
  {
   "cell_type": "code",
   "execution_count": 43,
   "metadata": {},
   "outputs": [
    {
     "name": "stdout",
     "output_type": "stream",
     "text": [
      "65\n",
      "0b1000001\n",
      "A\n"
     ]
    }
   ],
   "source": [
    "print(ord('A'))\n",
    "print(bin(65))\n",
    "print(chr(65))"
   ]
  },
  {
   "cell_type": "code",
   "execution_count": null,
   "metadata": {},
   "outputs": [
    {
     "name": "stdout",
     "output_type": "stream",
     "text": [
      "amount is 8160.0\n",
      "8511.114673536002\n"
     ]
    }
   ],
   "source": [
    "#simple interest\n",
    "p=6000\n",
    "r=6.0\n",
    "t=6\n",
    "si=p*r*t/100\n",
    "print(f'amount is {p+si}')\n",
    "\n",
    "#compund interest\n",
    "pr=6000\n",
    "rate=6.0\n",
    "time=6\n",
    "n=1\n",
    "print(pr*((1+rate/100)**(n*time)))"
   ]
  },
  {
   "cell_type": "code",
   "execution_count": 16,
   "metadata": {},
   "outputs": [
    {
     "name": "stdout",
     "output_type": "stream",
     "text": [
      "celsius to fahrenheit is 96.8\n",
      "fahrenheit to celsius is 18.88888888888889\n"
     ]
    }
   ],
   "source": [
    "#temperature conversion\n",
    "c=36\n",
    "f=66\n",
    "ctof=(9/5*c)+32\n",
    "ftoc=(5/9)*(f-32)\n",
    "print(f'celsius to fahrenheit is {ctof}')\n",
    "print(f'fahrenheit to celsius is {ftoc}')"
   ]
  },
  {
   "cell_type": "code",
   "execution_count": 14,
   "metadata": {},
   "outputs": [
    {
     "name": "stdout",
     "output_type": "stream",
     "text": [
      "113.04\n"
     ]
    }
   ],
   "source": [
    "#circle area\n",
    "r=6.0\n",
    "area=3.14*(r**2)\n",
    "print(area)"
   ]
  },
  {
   "cell_type": "code",
   "execution_count": 13,
   "metadata": {},
   "outputs": [
    {
     "name": "stdout",
     "output_type": "stream",
     "text": [
      "hs is studying in 12th\n",
      "hs is studying in 12th\n"
     ]
    }
   ],
   "source": [
    "name='hs'\n",
    "std='12th'\n",
    "print(name,'is studying in',std)\n",
    "\n",
    "print(f'{name} is studying in {std}')"
   ]
  },
  {
   "cell_type": "code",
   "execution_count": null,
   "metadata": {},
   "outputs": [
    {
     "name": "stdout",
     "output_type": "stream",
     "text": [
      "<class 'int'>\n"
     ]
    }
   ],
   "source": [
    "a=int(input('Enter a number '))\n",
    "print(type(a))"
   ]
  },
  {
   "cell_type": "code",
   "execution_count": 6,
   "metadata": {},
   "outputs": [
    {
     "name": "stdout",
     "output_type": "stream",
     "text": [
      "<class 'int'>\n",
      "<class 'str'>\n"
     ]
    }
   ],
   "source": [
    "age=6\n",
    "print(type(age))\n",
    "name='abc'\n",
    "print(type(name))"
   ]
  },
  {
   "cell_type": "code",
   "execution_count": 5,
   "metadata": {},
   "outputs": [
    {
     "name": "stdout",
     "output_type": "stream",
     "text": [
      "abc\n",
      "10\n",
      "6.6\n"
     ]
    }
   ],
   "source": [
    "a=1,2,3,4,5,6 #packing\n",
    "#print(a)\n",
    "data='abc',10,6.6\n",
    "#print(data)\n",
    "name,age,wei=data #unpacking\n",
    "print(name)\n",
    "print(age)\n",
    "print(wei)"
   ]
  },
  {
   "cell_type": "code",
   "execution_count": 2,
   "metadata": {},
   "outputs": [
    {
     "name": "stdout",
     "output_type": "stream",
     "text": [
      "5\n"
     ]
    }
   ],
   "source": [
    "print(2+3)"
   ]
  },
  {
   "cell_type": "code",
   "execution_count": 1,
   "metadata": {},
   "outputs": [
    {
     "name": "stdout",
     "output_type": "stream",
     "text": [
      "Hello World\n"
     ]
    }
   ],
   "source": [
    "print('Hello World')"
   ]
  }
 ],
 "metadata": {
  "kernelspec": {
   "display_name": "base",
   "language": "python",
   "name": "python3"
  },
  "language_info": {
   "codemirror_mode": {
    "name": "ipython",
    "version": 3
   },
   "file_extension": ".py",
   "mimetype": "text/x-python",
   "name": "python",
   "nbconvert_exporter": "python",
   "pygments_lexer": "ipython3",
   "version": "3.11.7"
  }
 },
 "nbformat": 4,
 "nbformat_minor": 2
}
