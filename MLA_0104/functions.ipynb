{
 "cells": [
  {
   "cell_type": "code",
   "execution_count": 6,
   "metadata": {},
   "outputs": [
    {
     "name": "stdout",
     "output_type": "stream",
     "text": [
      "hello\n",
      "12\n",
      "36\n",
      "6\n",
      "6\n"
     ]
    }
   ],
   "source": [
    "def hello():\n",
    "    print('hello')\n",
    "\n",
    "hello()\n",
    "\n",
    "def add(a,b): #with parameter without return type\n",
    "    print(a+b)\n",
    "\n",
    "add(6,6)\n",
    "\n",
    "def add1(a,b): #with parameter with return type\n",
    "    return a+b\n",
    "\n",
    "print(add1(18,18))\n",
    "\n",
    "def add2(): #without parameter with return type\n",
    "    a=3\n",
    "    b=3\n",
    "    return a+b\n",
    "\n",
    "print(add2())\n",
    "\n",
    "def add3(): #without parameter without return type\n",
    "    a=3\n",
    "    b=3\n",
    "    print(a+b)\n",
    "\n",
    "add3()"
   ]
  },
  {
   "cell_type": "code",
   "execution_count": 7,
   "metadata": {},
   "outputs": [
    {
     "name": "stdout",
     "output_type": "stream",
     "text": [
      "2160.0\n",
      "2160.0\n",
      "2160.0\n",
      "2160.0\n"
     ]
    }
   ],
   "source": [
    "def si(p,r,t): #with parameter without return type\n",
    "    print(p*r*t/100)\n",
    "\n",
    "si(6000,6,6)\n",
    "\n",
    "def si1(p,r,t): #with parameter with return type\n",
    "    return p*r*t/100\n",
    "\n",
    "print(si1(6000,6,6))\n",
    "\n",
    "def si2(): #without parameter with return type\n",
    "    p=6000\n",
    "    r=6\n",
    "    t=6\n",
    "    return p*r*t/100\n",
    "\n",
    "print(si2())\n",
    "\n",
    "def si3(): #without parameter without return type\n",
    "    p=6000\n",
    "    r=6\n",
    "    t=6\n",
    "    print(p*r*t/100)\n",
    "\n",
    "si3()"
   ]
  },
  {
   "cell_type": "code",
   "execution_count": 9,
   "metadata": {},
   "outputs": [
    {
     "name": "stdout",
     "output_type": "stream",
     "text": [
      "6\n",
      "\n",
      "abc\n",
      "\n",
      "hello abc you are 12\n",
      "\n",
      "q\n",
      "()\n",
      "\n",
      "q\n",
      "{'na': 'abc', 'age': 2}\n"
     ]
    }
   ],
   "source": [
    "#types of arguments\n",
    "\n",
    "#positional\n",
    "def fun(a,b):\n",
    "    print(a+b)\n",
    "\n",
    "fun(3,3)\n",
    "\n",
    "print()\n",
    "\n",
    "#default\n",
    "def data(name='hello'):\n",
    "    print(name)\n",
    "\n",
    "data('abc')\n",
    "\n",
    "print()\n",
    "\n",
    "#keyword args\n",
    "def func(name,age):\n",
    "    print(f'hello {name} you are {age}')\n",
    "\n",
    "func(age=12,name='abc')\n",
    "\n",
    "print()\n",
    "\n",
    "#variable length arguments\n",
    "def var(name, *a):\n",
    "    print(name)\n",
    "    print(a)\n",
    "\n",
    "var('q')\n",
    "\n",
    "print()\n",
    "\n",
    "#variable length keyword arguments\n",
    "def varkey(name, **a):\n",
    "    print(name)\n",
    "    print(a)\n",
    "\n",
    "varkey('q',na='abc',age=2)\n",
    "\n"
   ]
  },
  {
   "cell_type": "code",
   "execution_count": 14,
   "metadata": {},
   "outputs": [
    {
     "name": "stdout",
     "output_type": "stream",
     "text": [
      "6\n",
      "\n",
      "Help on function addition in module __main__:\n",
      "\n",
      "addition(a, b)\n",
      "    this function takes two values and adds them\n",
      "\n"
     ]
    },
    {
     "data": {
      "text/plain": [
       "'this function takes two values and adds them'"
      ]
     },
     "execution_count": 14,
     "metadata": {},
     "output_type": "execute_result"
    }
   ],
   "source": [
    "#docstring\n",
    "def addition(a,b):\n",
    "    \"\"\"this function takes two values and adds them\"\"\"\n",
    "    return(a+b)\n",
    "\n",
    "print (addition(1,5))\n",
    "print()\n",
    "\n",
    "help(addition)\n",
    "\n",
    "addition.__doc__"
   ]
  },
  {
   "cell_type": "code",
   "execution_count": 16,
   "metadata": {},
   "outputs": [
    {
     "name": "stdout",
     "output_type": "stream",
     "text": [
      "Integer=10, String=hello\n"
     ]
    },
    {
     "data": {
      "text/plain": [
       "{'a': int, 'b': str, 'return': str}"
      ]
     },
     "execution_count": 16,
     "metadata": {},
     "output_type": "execute_result"
    }
   ],
   "source": [
    "#function annotation\n",
    "\n",
    "def data(a:int,b:str) -> str:\n",
    "    \"\"\"this function takes an int and string and returns a format string\"\"\"\n",
    "    return f'Integer={a}, String={b}'\n",
    "\n",
    "print(data(10,'hello'))\n",
    "\n",
    "data.__annotations__"
   ]
  },
  {
   "cell_type": "code",
   "execution_count": 23,
   "metadata": {},
   "outputs": [
    {
     "name": "stdout",
     "output_type": "stream",
     "text": [
      "[22, 35, 11]\n"
     ]
    }
   ],
   "source": [
    "#array intersection\n",
    "\n",
    "def intersection(array1,array2):\n",
    "    out=[]\n",
    "    for i in range(len(array2)):\n",
    "        if array2[i] in array1:\n",
    "            out.append(array2[i])\n",
    "\n",
    "    print(out)\n",
    "\n",
    "intersection([11,10,22,20,35,67],[22,30,35,11])"
   ]
  },
  {
   "cell_type": "code",
   "execution_count": 25,
   "metadata": {},
   "outputs": [
    {
     "name": "stdout",
     "output_type": "stream",
     "text": [
      "50 inside func\n",
      "50 out func\n"
     ]
    }
   ],
   "source": [
    "x=20\n",
    "\n",
    "def num():\n",
    "    #x=10 #Local\n",
    "    global x\n",
    "    x=x+30\n",
    "    print(x,\"inside func\")\n",
    "\n",
    "num()\n",
    "print(x,'out func')"
   ]
  },
  {
   "cell_type": "code",
   "execution_count": 33,
   "metadata": {},
   "outputs": [
    {
     "name": "stdout",
     "output_type": "stream",
     "text": [
      "rock\n",
      "You win\n"
     ]
    }
   ],
   "source": [
    "import random\n",
    "\n",
    "def rockPaperScissor():\n",
    "    a=['rock','paper','scissor']\n",
    "    system=random.choice(a)\n",
    "    user=input('enter your choice')\n",
    "    print(system)\n",
    "    if(user==system):\n",
    "        print('Tied')\n",
    "    else:\n",
    "        if((user=='rock' and system=='scissor') or (user=='paper' and system=='rock') or (user=='scissor' and system=='paper')):\n",
    "            print('You win')\n",
    "        else:\n",
    "            print('You lose')\n",
    "\n",
    "rockPaperScissor()"
   ]
  },
  {
   "cell_type": "code",
   "execution_count": 37,
   "metadata": {},
   "outputs": [
    {
     "name": "stdout",
     "output_type": "stream",
     "text": [
      "5Ekx!Um8!U6yg6r68U42Kc7c2FJ*@7WZ\n"
     ]
    }
   ],
   "source": [
    "import random\n",
    "\n",
    "def generate():\n",
    "\n",
    "    uc='QWERTYUIOPASDFGHJKLZXCVBNM'\n",
    "    lc='qwertyuiopasdfghjklzxcvbnm' \n",
    "    dig='1234567890'\n",
    "    spl='@#$%!^&*?'\n",
    "    pwd=''\n",
    "    n=random.randint(10,50)\n",
    "    for i in range(n):\n",
    "        n=random.randint(1,4)\n",
    "        if(n==1):\n",
    "            pwd+=random.choice(uc)\n",
    "        elif(n==2):\n",
    "            pwd+=random.choice(lc)\n",
    "        elif(n==3):\n",
    "            pwd+=random.choice(dig)\n",
    "        else:\n",
    "            pwd+=random.choice(spl)\n",
    "\n",
    "    print(pwd)\n",
    "\n",
    "generate()\n",
    "\n"
   ]
  },
  {
   "cell_type": "code",
   "execution_count": 50,
   "metadata": {},
   "outputs": [
    {
     "name": "stdout",
     "output_type": "stream",
     "text": [
      "No, try again. Score is -2\n",
      "No, try again. Score is -4\n",
      "no, answer is more than 75 and your score is -6\n",
      "no, answer is more than 36 and your score is -8\n",
      "no, answer is more than 56 and your score is -10\n",
      "You ran out of attempts, answer is 89 and your score is -10\n"
     ]
    }
   ],
   "source": [
    "import random\n",
    "\n",
    "def guess():\n",
    "    num=random.randint(1,100)\n",
    "    attempts=5\n",
    "    score=0\n",
    "    while attempts!=0:\n",
    "\n",
    "        if(attempts>=4):\n",
    "            n=int(input('enter your guess'))\n",
    "            if(n==num):\n",
    "                score=10\n",
    "                print(f'Correct Answer. Score is {score}') \n",
    "                return\n",
    "            else:\n",
    "                score-=2\n",
    "                print(f'No, try again. Score is {score}')\n",
    "                attempts-=1\n",
    "        else:\n",
    "            n=int(input('enter your guess'))\n",
    "            if(n==num):\n",
    "                score=10\n",
    "                print(f'Correct Answer. Score is {score}')\n",
    "                return\n",
    "            else:\n",
    "                if(num<n):\n",
    "                    score-=2\n",
    "                    print(f'no, answer is less than {n} and your score is {score}')\n",
    "                else:\n",
    "                    score-=2\n",
    "                    print(f'no, answer is more than {n} and your score is {score}')\n",
    "                attempts-=1\n",
    "        \n",
    "    print(f'You ran out of attempts, answer is {num} and your score is {score}')\n",
    "\n",
    "guess()"
   ]
  },
  {
   "cell_type": "code",
   "execution_count": 2,
   "metadata": {},
   "outputs": [
    {
     "data": {
      "text/plain": [
       "55"
      ]
     },
     "execution_count": 2,
     "metadata": {},
     "output_type": "execute_result"
    }
   ],
   "source": [
    "def fibonacci(n):\n",
    "    if n==0:\n",
    "        return 0\n",
    "    elif n==1:\n",
    "        return 1\n",
    "    else:\n",
    "        return fibonacci(n-1)+fibonacci(n-2)\n",
    "    \n",
    "fibonacci(10)"
   ]
  },
  {
   "cell_type": "code",
   "execution_count": 17,
   "metadata": {},
   "outputs": [
    {
     "data": {
      "text/plain": [
       "5"
      ]
     },
     "execution_count": 17,
     "metadata": {},
     "output_type": "execute_result"
    }
   ],
   "source": [
    "def digits(n):\n",
    "    if n<10:\n",
    "        return 1\n",
    "    else:\n",
    "        return 1+digits(n//10)\n",
    "    \n",
    "digits(12345)"
   ]
  },
  {
   "cell_type": "code",
   "execution_count": 18,
   "metadata": {},
   "outputs": [
    {
     "ename": "RecursionError",
     "evalue": "maximum recursion depth exceeded",
     "output_type": "error",
     "traceback": [
      "\u001b[1;31m---------------------------------------------------------------------------\u001b[0m",
      "\u001b[1;31mRecursionError\u001b[0m                            Traceback (most recent call last)",
      "Cell \u001b[1;32mIn[18], line 7\u001b[0m\n\u001b[0;32m      4\u001b[0m     \u001b[38;5;28;01melse\u001b[39;00m:\n\u001b[0;32m      5\u001b[0m         \u001b[38;5;28;01mreturn\u001b[39;00m s[\u001b[38;5;28mlen\u001b[39m(s)\u001b[38;5;241m-\u001b[39m\u001b[38;5;241m1\u001b[39m]\u001b[38;5;241m+\u001b[39mstring_rev(s[\u001b[38;5;28mlen\u001b[39m(s)\u001b[38;5;241m-\u001b[39m\u001b[38;5;241m2\u001b[39m])\n\u001b[1;32m----> 7\u001b[0m string_rev(\u001b[38;5;124m'\u001b[39m\u001b[38;5;124mabc\u001b[39m\u001b[38;5;124m'\u001b[39m)\n",
      "Cell \u001b[1;32mIn[18], line 5\u001b[0m, in \u001b[0;36mstring_rev\u001b[1;34m(s)\u001b[0m\n\u001b[0;32m      3\u001b[0m     \u001b[38;5;28;01mreturn\u001b[39;00m \u001b[38;5;124m\"\u001b[39m\u001b[38;5;124m\"\u001b[39m\n\u001b[0;32m      4\u001b[0m \u001b[38;5;28;01melse\u001b[39;00m:\n\u001b[1;32m----> 5\u001b[0m     \u001b[38;5;28;01mreturn\u001b[39;00m s[\u001b[38;5;28mlen\u001b[39m(s)\u001b[38;5;241m-\u001b[39m\u001b[38;5;241m1\u001b[39m]\u001b[38;5;241m+\u001b[39mstring_rev(s[\u001b[38;5;28mlen\u001b[39m(s)\u001b[38;5;241m-\u001b[39m\u001b[38;5;241m2\u001b[39m])\n",
      "Cell \u001b[1;32mIn[18], line 5\u001b[0m, in \u001b[0;36mstring_rev\u001b[1;34m(s)\u001b[0m\n\u001b[0;32m      3\u001b[0m     \u001b[38;5;28;01mreturn\u001b[39;00m \u001b[38;5;124m\"\u001b[39m\u001b[38;5;124m\"\u001b[39m\n\u001b[0;32m      4\u001b[0m \u001b[38;5;28;01melse\u001b[39;00m:\n\u001b[1;32m----> 5\u001b[0m     \u001b[38;5;28;01mreturn\u001b[39;00m s[\u001b[38;5;28mlen\u001b[39m(s)\u001b[38;5;241m-\u001b[39m\u001b[38;5;241m1\u001b[39m]\u001b[38;5;241m+\u001b[39mstring_rev(s[\u001b[38;5;28mlen\u001b[39m(s)\u001b[38;5;241m-\u001b[39m\u001b[38;5;241m2\u001b[39m])\n",
      "    \u001b[1;31m[... skipping similar frames: string_rev at line 5 (2970 times)]\u001b[0m\n",
      "Cell \u001b[1;32mIn[18], line 5\u001b[0m, in \u001b[0;36mstring_rev\u001b[1;34m(s)\u001b[0m\n\u001b[0;32m      3\u001b[0m     \u001b[38;5;28;01mreturn\u001b[39;00m \u001b[38;5;124m\"\u001b[39m\u001b[38;5;124m\"\u001b[39m\n\u001b[0;32m      4\u001b[0m \u001b[38;5;28;01melse\u001b[39;00m:\n\u001b[1;32m----> 5\u001b[0m     \u001b[38;5;28;01mreturn\u001b[39;00m s[\u001b[38;5;28mlen\u001b[39m(s)\u001b[38;5;241m-\u001b[39m\u001b[38;5;241m1\u001b[39m]\u001b[38;5;241m+\u001b[39mstring_rev(s[\u001b[38;5;28mlen\u001b[39m(s)\u001b[38;5;241m-\u001b[39m\u001b[38;5;241m2\u001b[39m])\n",
      "\u001b[1;31mRecursionError\u001b[0m: maximum recursion depth exceeded"
     ]
    }
   ],
   "source": [
    "def string_rev(s):\n",
    "    if s==\"\":\n",
    "        return \"\"\n",
    "    else:\n",
    "        return s[len(s)-1]+string_rev(s[len(s)-2])\n",
    "\n",
    "string_rev('abc')"
   ]
  },
  {
   "cell_type": "code",
   "execution_count": 21,
   "metadata": {},
   "outputs": [
    {
     "name": "stdout",
     "output_type": "stream",
     "text": [
      "<function square at 0x000001FBC20036A0>\n"
     ]
    }
   ],
   "source": [
    "#first class function\n",
    "\n",
    "def square(num):\n",
    "    return num*num\n",
    "\n",
    "f=square\n",
    "\n",
    "print(f)"
   ]
  },
  {
   "cell_type": "code",
   "execution_count": null,
   "metadata": {},
   "outputs": [
    {
     "name": "stdout",
     "output_type": "stream",
     "text": [
      "<function square at 0x000001FBC1357420>\n",
      "[1, 4, 9, 16, 25]\n"
     ]
    }
   ],
   "source": [
    "#passing functions\n",
    "\n",
    "def square(num):\n",
    "    return num*num\n",
    "\n",
    "f=square\n",
    "\n",
    "print(f)\n",
    "\n",
    "def my_map(func,arr):\n",
    "    result=[]\n",
    "    for i in arr:\n",
    "        result.append(func(i))\n",
    "    return result\n",
    "\n",
    "squares=my_map(square,[1,2,3,4,5])\n",
    "print(squares)"
   ]
  },
  {
   "cell_type": "code",
   "execution_count": null,
   "metadata": {},
   "outputs": [
    {
     "name": "stdout",
     "output_type": "stream",
     "text": [
      "Log: Hi from: kagura\n",
      "Log: Welcome from: gintoki\n"
     ]
    }
   ],
   "source": [
    "def logger(msg):\n",
    "    def log_message(name):\n",
    "        print('Log:',msg,'from:',name)\n",
    "    return log_message\n",
    "\n",
    "log_hi=logger('Hi')\n",
    "log_hi('kagura')\n",
    "\n",
    "log_welcome=logger('Welcome')\n",
    "log_welcome('gintoki')\n"
   ]
  },
  {
   "cell_type": "code",
   "execution_count": 31,
   "metadata": {},
   "outputs": [
    {
     "name": "stdout",
     "output_type": "stream",
     "text": [
      "105\n"
     ]
    },
    {
     "data": {
      "text/plain": [
       "110"
      ]
     },
     "execution_count": 31,
     "metadata": {},
     "output_type": "execute_result"
    }
   ],
   "source": [
    "#create a closure to add a fixed number\n",
    "\n",
    "def adder(num):\n",
    "    def add_no(n):\n",
    "        return num+n\n",
    "    return add_no\n",
    "\n",
    "add5=adder(5)\n",
    "print(add5(100))\n",
    "\n",
    "add10=adder(10)\n",
    "add10(100)"
   ]
  },
  {
   "cell_type": "code",
   "execution_count": 33,
   "metadata": {},
   "outputs": [
    {
     "name": "stdout",
     "output_type": "stream",
     "text": [
      "6\n",
      "-1\n",
      "15\n",
      "10\n"
     ]
    }
   ],
   "source": [
    "import logging\n",
    "logging.basicConfig(filename='example.log',level=logging.INFO)\n",
    "\n",
    "def logger(func):\n",
    "    def log_func(*args):\n",
    "        logging.info(\n",
    "            'Running \"{}\" with arguments {}'.format(func.__name__,args))\n",
    "        print(func(*args))\n",
    "    return log_func\n",
    "\n",
    "def add(x,y):\n",
    "    return x+y\n",
    "\n",
    "def sub(x,y):\n",
    "    return x-y\n",
    "\n",
    "add_logger=logger(add)\n",
    "sub_logger=logger(sub)\n",
    "\n",
    "add_logger(3,3)\n",
    "sub_logger(4,5)\n",
    "\n",
    "add_logger(10,5)\n",
    "sub_logger(20,10)"
   ]
  },
  {
   "cell_type": "code",
   "execution_count": null,
   "metadata": {},
   "outputs": [
    {
     "ename": "IndexError",
     "evalue": "list assignment index out of range",
     "output_type": "error",
     "traceback": [
      "\u001b[1;31m---------------------------------------------------------------------------\u001b[0m",
      "\u001b[1;31mIndexError\u001b[0m                                Traceback (most recent call last)",
      "Cell \u001b[1;32mIn[39], line 6\u001b[0m\n\u001b[0;32m      4\u001b[0m res\u001b[38;5;241m=\u001b[39m[]\n\u001b[0;32m      5\u001b[0m \u001b[38;5;28;01mfor\u001b[39;00m i \u001b[38;5;129;01min\u001b[39;00m \u001b[38;5;28mrange\u001b[39m(\u001b[38;5;28mlen\u001b[39m(l)):\n\u001b[1;32m----> 6\u001b[0m    res[i]\u001b[38;5;241m=\u001b[39ml[i]\n\u001b[0;32m      8\u001b[0m res\n",
      "\u001b[1;31mIndexError\u001b[0m: list assignment index out of range"
     ]
    }
   ],
   "source": [
    "#flatten a list [1,[2,[3,4]],5] -> [1,2,3,4,5]\n",
    "\n",
    "def flatten(l):\n",
    "    res=[]\n",
    "    for i in l:\n",
    "\n",
    "\n",
    "        "
   ]
  },
  {
   "cell_type": "code",
   "execution_count": 47,
   "metadata": {},
   "outputs": [
    {
     "name": "stdout",
     "output_type": "stream",
     "text": [
      "1\n",
      "10\n",
      "101\n",
      "1013\n",
      "0\n",
      "01\n",
      "013\n",
      "1\n",
      "13\n",
      "3\n"
     ]
    }
   ],
   "source": [
    "def print_substrings(s,start=0,current=\"\"):\n",
    "    if start==len(s): #base case\n",
    "        return\n",
    "    if current==\"\":\n",
    "        current=s[start]\n",
    "    print(current)\n",
    "\n",
    "    if start+len(current) < len(s):\n",
    "        print_substrings(s,start,current+s[start+len(current)]) #expand current substring\n",
    "    else:\n",
    "        print_substrings(s,start+1) #move to next starting character\n",
    "\n",
    "print_substrings('1013')"
   ]
  },
  {
   "cell_type": "code",
   "execution_count": null,
   "metadata": {},
   "outputs": [
    {
     "data": {
      "text/plain": [
       "3.0"
      ]
     },
     "execution_count": 52,
     "metadata": {},
     "output_type": "execute_result"
    }
   ],
   "source": [
    "def average(*args):\n",
    "    if not args:\n",
    "        return 0\n",
    "    \n",
    "    return sum(args)/len(args)\n",
    "\n",
    "average(1,2,3,4,5)"
   ]
  },
  {
   "cell_type": "code",
   "execution_count": 61,
   "metadata": {},
   "outputs": [
    {
     "name": "stdout",
     "output_type": "stream",
     "text": [
      "missing required fields\n",
      "incorrect order\n"
     ]
    },
    {
     "data": {
      "text/plain": [
       "'all fields are present'"
      ]
     },
     "execution_count": 61,
     "metadata": {},
     "output_type": "execute_result"
    }
   ],
   "source": [
    "def required(**kwargs):\n",
    "\n",
    "    #for key,value in kwargs.items():\n",
    "    #print(kwargs.keys())\n",
    "    if ('name' not in kwargs.keys()) or ('email' not in kwargs.keys()) or ('dob' not in kwargs.keys()):\n",
    "        return 'missing required fields'\n",
    "    else:\n",
    "        fields=['name','email','dob']\n",
    "        field_list=list(kwargs.keys())\n",
    "        for i in range(0,3):\n",
    "            if fields[i]!=field_list[i]:\n",
    "                return 'incorrect order'\n",
    "        \n",
    "        return 'all fields are present'\n",
    "\n",
    "print(required(name='abc'))    \n",
    "print(required(name='abc',dob='1/11/1111',email='a@b'))\n",
    "\n",
    "required(name='abc',email='a@b',dob='1/11/1111')"
   ]
  },
  {
   "cell_type": "code",
   "execution_count": null,
   "metadata": {},
   "outputs": [
    {
     "name": "stdout",
     "output_type": "stream",
     "text": [
      "2\n",
      "blue\n",
      "red\n",
      "Dave\n"
     ]
    }
   ],
   "source": [
    "#scope in nested function\n",
    "\n",
    "name='Dave'\n",
    "count=1\n",
    "\n",
    "def another():\n",
    "    color='blue'\n",
    "    global count\n",
    "    count+=1\n",
    "    print(count)\n",
    "\n",
    "    def greeting(name):\n",
    "        nonlocal color\n",
    "        color='red'\n",
    "        #nonlocal count=6 -> assign to different variable\n",
    "        print(color)\n",
    "        print(name)\n",
    "\n",
    "    print(color)\n",
    "\n",
    "    greeting('Dave')\n",
    "\n",
    "another()"
   ]
  }
 ],
 "metadata": {
  "kernelspec": {
   "display_name": "base",
   "language": "python",
   "name": "python3"
  },
  "language_info": {
   "codemirror_mode": {
    "name": "ipython",
    "version": 3
   },
   "file_extension": ".py",
   "mimetype": "text/x-python",
   "name": "python",
   "nbconvert_exporter": "python",
   "pygments_lexer": "ipython3",
   "version": "3.11.7"
  }
 },
 "nbformat": 4,
 "nbformat_minor": 2
}
