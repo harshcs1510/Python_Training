{
 "cells": [
  {
   "cell_type": "code",
   "execution_count": 1,
   "id": "d85b7599",
   "metadata": {},
   "outputs": [],
   "source": [
    "#Binary Search Tree --> Perfect Tree\n",
    "#  O(n log n) complexity --> Divide and Conquer Approach"
   ]
  },
  {
   "cell_type": "code",
   "execution_count": 2,
   "id": "1bb512a4",
   "metadata": {},
   "outputs": [],
   "source": [
    "#Heap\n",
    "\n",
    "#Left Child --> 2**n * parent_index\n",
    "#Right Child --> 2**n * parent_index+1\n"
   ]
  },
  {
   "cell_type": "code",
   "execution_count": 7,
   "id": "22e75fdd",
   "metadata": {},
   "outputs": [
    {
     "name": "stdout",
     "output_type": "stream",
     "text": [
      "4\n",
      "1\n"
     ]
    }
   ],
   "source": [
    "\n",
    "class Stack:\n",
    "    def __init__(self, value):\n",
    "        self.stack = [value]\n",
    "\n",
    "    def print_stack(self):\n",
    "        for item in reversed(self.stack):\n",
    "            print(item)\n",
    "\n",
    "    def top(self):\n",
    "        return self.stack[-1]\n",
    "\n",
    "    def height(self):\n",
    "        return len(self.stack)\n",
    "\n",
    "\n",
    "my_stack=Stack(4)\n",
    "\n",
    "print(my_stack.top())\n",
    "print(my_stack.height())\n"
   ]
  },
  {
   "cell_type": "code",
   "execution_count": 3,
   "id": "eb5605ba",
   "metadata": {},
   "outputs": [
    {
     "data": {
      "text/plain": [
       "[-5, -3, -3, 1, 2, 2, 2, 3, 7]"
      ]
     },
     "execution_count": 3,
     "metadata": {},
     "output_type": "execute_result"
    }
   ],
   "source": [
    "#bubble sort\n",
    "\n",
    "l=[-5,3,2,1,-3,-3,7,2,2]\n",
    "\n",
    "sorted=False\n",
    "while not sorted:\n",
    "    sorted=True\n",
    "    for i in range(len(l)-1):\n",
    "        if l[i]>l[i+1]:\n",
    "            l[i],l[i+1]=l[i+1],l[i]\n",
    "            sorted=False\n",
    "\n",
    "l"
   ]
  },
  {
   "cell_type": "code",
   "execution_count": null,
   "id": "c8981047",
   "metadata": {},
   "outputs": [
    {
     "ename": "",
     "evalue": "",
     "output_type": "error",
     "traceback": [
      "\u001b[1;31mRunning cells with 'Python 3.12.3' requires the ipykernel package.\n",
      "\u001b[1;31m<a href='command:jupyter.createPythonEnvAndSelectController'>Create a Python Environment</a> with the required packages."
     ]
    }
   ],
   "source": [
    "# class Circle:\n",
    "\n",
    "#     def __init__(self,radius):\n",
    "#         self.radius=radius\n",
    "\n",
    "#     @property\n",
    "#     def radius(self):\n",
    "#         return self.radius\n",
    "    \n",
    "#     @radius.setter\n",
    "#     def radius(self,value):\n",
    "#         if value<0:\n",
    "#             raise ValueError('Radius cannot be negative')\n",
    "#         self.radius=value\n",
    "\n",
    "#     @radius.deleter\n",
    "#     def radius(self):\n",
    "#         print('Radius deleted')\n",
    "#         del self.radius\n",
    "\n",
    "# c=Circle(6)"
   ]
  },
  {
   "cell_type": "code",
   "execution_count": null,
   "id": "292db410",
   "metadata": {},
   "outputs": [],
   "source": []
  }
 ],
 "metadata": {
  "kernelspec": {
   "display_name": "base",
   "language": "python",
   "name": "python3"
  },
  "language_info": {
   "codemirror_mode": {
    "name": "ipython",
    "version": 3
   },
   "file_extension": ".py",
   "mimetype": "text/x-python",
   "name": "python",
   "nbconvert_exporter": "python",
   "pygments_lexer": "ipython3",
   "version": "3.11.7"
  }
 },
 "nbformat": 4,
 "nbformat_minor": 5
}
