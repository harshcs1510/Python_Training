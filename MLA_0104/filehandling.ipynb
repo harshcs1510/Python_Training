{
 "cells": [
  {
   "cell_type": "code",
   "execution_count": null,
   "id": "65ac6b8e",
   "metadata": {},
   "outputs": [
    {
     "name": "stdout",
     "output_type": "stream",
     "text": [
      "181\n",
      "Night Gathers, and now my watch begins.\n",
      "And it shall not end until my death\n",
      "I am the sword in the darkness\n",
      "The Watcher on the Walls\n",
      "I am the shield that guards the realms of men\n"
     ]
    }
   ],
   "source": [
    "#file modes\n",
    "\n",
    "#'r'--- read\n",
    "#'w'--- write\n",
    "#'a'--- append\n",
    "#'r+'--- read/write\n",
    "#'w+'--- read/write\n",
    "\n",
    "#f=open('demo.txt','r')\n",
    "\n",
    "#print(f.read(10)) ---> prints everything if no parameter passed\n",
    "\n",
    "#print(f.readline())\n",
    "#print(f.readline())\n",
    "#print(f.readline())\n",
    "\n",
    "#print(f.readlines())\n",
    "\n",
    "f=open('demo1.txt','w')\n",
    "\n",
    "f.write('Night Gathers, and now my watch begins.\\n')\n",
    "f.write('And it shall not end until my death\\n')\n",
    "\n",
    "#write mode only writes data for the first time. Any updates after that with write mode will erase\n",
    "#all data. \n",
    "f.writelines(['I am the sword in the darkness\\n','The Watcher on the Walls\\n']) #---> Give in List form\n",
    "\n",
    "#f=open('demo1.txt','w') ---> FILE CREATED ONLY IN WRITE MODE. READ MODE GIVES fileNotFound ERROR\n",
    "\n",
    "f.close()\n",
    "\n",
    "f=open('demo1.txt','a')\n",
    "f.write('I am the shield that guards the realms of men')\n",
    "\n",
    "#Cannot use read function in append mode. Gives io.UnsupportedOperation error\n",
    "\n",
    "f.close()\n",
    "\n",
    "f=open('demo1.txt','a+')\n",
    "print(f.tell()) #--> position of pointer in file\n",
    "f.seek(0) #---> When we call read right after opening in a+ mode, pointer is already at end hence nothing left to read\n",
    "print(f.read())\n",
    "f.close()\n",
    "\n",
    "#x (Exclusive Creation) mode gives error if file already exists\n",
    "\n",
    "#r+ ---> file pointer at beginning of file\n",
    "#w+ ---> truncates file if exists else creates new\n",
    "#a+ ---> both appending and reading. File pointer at end of file if exists else creates new"
   ]
  },
  {
   "cell_type": "code",
   "execution_count": 15,
   "id": "0cf5fd4d",
   "metadata": {},
   "outputs": [
    {
     "name": "stdout",
     "output_type": "stream",
     "text": [
      "HOUSE STARK OF WINTERFELL\n",
      "HOUSE LANNISTER OF CASTERLY ROCK\n",
      "HOUSE TULLY OF RIVERRUN\n",
      "HOUSE ARRYN OF THE EYRIE\n",
      "HOUSE BARATHEON OF STORM'S END\n",
      "HOUSE TYRELL OF HIGHGARDEN\n",
      "HOUSE MARTELL OF SUNSPEAR\n"
     ]
    },
    {
     "ename": "TypeError",
     "evalue": "'bool' object is not callable",
     "output_type": "error",
     "traceback": [
      "\u001b[1;31m---------------------------------------------------------------------------\u001b[0m",
      "\u001b[1;31mTypeError\u001b[0m                                 Traceback (most recent call last)",
      "Cell \u001b[1;32mIn[15], line 4\u001b[0m\n\u001b[0;32m      1\u001b[0m \u001b[38;5;28;01mwith\u001b[39;00m \u001b[38;5;28mopen\u001b[39m(\u001b[38;5;124m'\u001b[39m\u001b[38;5;124mdemo.txt\u001b[39m\u001b[38;5;124m'\u001b[39m,\u001b[38;5;124m'\u001b[39m\u001b[38;5;124mr\u001b[39m\u001b[38;5;124m'\u001b[39m) \u001b[38;5;28;01mas\u001b[39;00m f:\n\u001b[0;32m      2\u001b[0m     \u001b[38;5;28mprint\u001b[39m(f\u001b[38;5;241m.\u001b[39mread())\n\u001b[1;32m----> 4\u001b[0m \u001b[38;5;28mprint\u001b[39m(f\u001b[38;5;241m.\u001b[39mclosed())\n",
      "\u001b[1;31mTypeError\u001b[0m: 'bool' object is not callable"
     ]
    }
   ],
   "source": [
    "with open('demo.txt','r') as f:\n",
    "    print(f.read())\n",
    "\n",
    "print(f.closed())"
   ]
  },
  {
   "cell_type": "code",
   "execution_count": 16,
   "id": "7d2c17d4",
   "metadata": {},
   "outputs": [
    {
     "name": "stdout",
     "output_type": "stream",
     "text": [
      "Log entry has been written to the log file\n"
     ]
    }
   ],
   "source": [
    "import datetime\n",
    "\n",
    "now=datetime.datetime.now()\n",
    "\n",
    "log_msg=f\"Log Entry created at {now}: This is a log message\"\n",
    "\n",
    "with open(\"demo.txt\",\"a\") as file:\n",
    "\n",
    "    file.write(log_msg+\"\\n\")\n",
    "\n",
    "print(\"Log entry has been written to the log file\")"
   ]
  },
  {
   "cell_type": "code",
   "execution_count": 17,
   "id": "c7018f92",
   "metadata": {},
   "outputs": [],
   "source": [
    "lines=[\"Hello World\",\"Python is great\",\"File Handling is easy\"]\n",
    "\n",
    "with open('eg.txt','w') as file:\n",
    "    l=[line+'\\n' for line in lines]\n",
    "    file.writelines(l)"
   ]
  },
  {
   "cell_type": "code",
   "execution_count": null,
   "id": "aee1a2e7",
   "metadata": {},
   "outputs": [
    {
     "name": "stdout",
     "output_type": "stream",
     "text": [
      "{'Name': 'Luffy', 'Age': 19, 'Crew': 'Strawhats'}\n",
      "<class 'dict'>\n"
     ]
    }
   ],
   "source": [
    "import json\n",
    "\n",
    "with open('data.json','r') as j:\n",
    "    d=json.load(j)\n",
    "\n",
    "print(d)\n",
    "print(type(d))\n",
    "\n",
    "#json.dumps(py_obj)"
   ]
  },
  {
   "cell_type": "code",
   "execution_count": 27,
   "id": "23daba00",
   "metadata": {},
   "outputs": [
    {
     "name": "stdout",
     "output_type": "stream",
     "text": [
      "{\"Name\": \"Naruto\", \"Age\": 17, \"Village\": \"Konoha\", \"Rank\": \"Hokage\"} <class 'str'>\n",
      "{'Name': 'Naruto', 'Age': 17, 'Village': 'Konoha', 'Rank': 'Hokage'} <class 'dict'>\n"
     ]
    }
   ],
   "source": [
    "import json\n",
    "\n",
    "d={\"Name\":\"Naruto\", \"Age\":17, \"Village\":\"Konoha\", \"Rank\":\"Hokage\"}\n",
    "\n",
    "j_obj=json.dumps(d)   #--> convert python object to json object\n",
    "p_obj=json.loads(j_obj)  #--> json object to python object\n",
    "\n",
    "print(j_obj,type(j_obj))\n",
    "print(p_obj,type(p_obj))\n",
    "\n",
    "with open('new.json','w') as w:\n",
    "    json.dump(d,w,indent=4,sort_keys=False)  "
   ]
  },
  {
   "cell_type": "code",
   "execution_count": null,
   "id": "fb359067",
   "metadata": {},
   "outputs": [
    {
     "name": "stdout",
     "output_type": "stream",
     "text": [
      "{'Age': 17, 'Missions': 654, 'Name': 'Naruto', 'Rank': 'Hokage', 'Village': 'Konoha'}\n"
     ]
    }
   ],
   "source": [
    "with open('new.json','r') as f:\n",
    "    d=json.load(f)\n",
    "print(d)\n",
    "d['Missions']=654\n",
    "d['Language']='पाइथन'\n",
    "\n",
    "with open('new.json','w') as w:\n",
    "    json.dump(d,w,indent=4,sort_keys=True,ensure_ascii=False) \n",
    "\n",
    "#sort_keys ---> if true then sorts\n",
    "#ensure_ascii ---> if false then can store any script"
   ]
  },
  {
   "cell_type": "code",
   "execution_count": 53,
   "id": "844246fd",
   "metadata": {},
   "outputs": [
    {
     "name": "stdout",
     "output_type": "stream",
     "text": [
      "['Communication', 'Recruitment']\n"
     ]
    }
   ],
   "source": [
    "new_employee={\n",
    "    \"employee\":{\n",
    "        \"id\":182,\n",
    "        \"name\":\"Ravi\",\n",
    "        \"department\":\"HR\",\n",
    "        \"skills\":[\"Communication\",\"Recruitment\"],\n",
    "        \"address\":{\n",
    "            \"city\":\"Delhi\",\n",
    "            \"zip\":\"110011\"\n",
    "        }\n",
    "    }\n",
    "}\n",
    "\n",
    "with open(\"new_employee.json\",\"w\") as f:\n",
    "    json.dump(new_employee,f,indent=4)\n",
    "\n",
    "#---> Read and print employee skills\n",
    "\n",
    "with open(\"new_employee.json\",\"r\") as f:\n",
    "    d=json.load(f)\n",
    "\n",
    "l=d['employee']['skills']\n",
    "print(l)   \n",
    "\n",
    "#---> change zipcode and add new skill\n",
    "\n",
    "d['employee']['skills'].append('Management')\n",
    "d['employee']['address']['zip']=\"274227\"\n",
    "\n",
    "with open(\"new_employee.json\",\"w\") as f:\n",
    "    json.dump(d,f,indent=4)\n"
   ]
  },
  {
   "cell_type": "code",
   "execution_count": 57,
   "id": "8afc537e",
   "metadata": {},
   "outputs": [],
   "source": [
    "#CSV\n",
    "\n",
    "import csv\n",
    "data=[['Name','Age','City'], \n",
    "['Kendall',30,'New York'],\n",
    "['Siobhan',28,'Boston'],\n",
    "['Roman',26,'San Francisco']]\n",
    "\n",
    "with open('people.csv','w',newline='') as c:\n",
    "    writer=csv.writer(c)\n",
    "    writer.writerows(data)\n",
    "\n",
    "l=[['Connor',40,'Washington'],\n",
    "['Logan',80,'London']]\n",
    "\n",
    "with open('people.csv','a',newline='') as c:\n",
    "    writer=csv.writer(c)\n",
    "    writer.writerows(l) "
   ]
  },
  {
   "cell_type": "code",
   "execution_count": 60,
   "id": "9d603fac",
   "metadata": {},
   "outputs": [],
   "source": [
    "#merge two csv files into a 3rd\n",
    "\n",
    "import csv\n",
    "data1=[['Name','Age','City'], \n",
    "['Kendall',30,'New York'],\n",
    "['Siobhan',28,'Boston'],\n",
    "['Roman',26,'San Francisco']]\n",
    "\n",
    "with open('f1.csv','w',newline='') as c1:\n",
    "    writer=csv.writer(c1)\n",
    "    writer.writerows(data1)\n",
    "\n",
    "data2=[['Name','Age','City'], \n",
    "['Connor',40,'Chicago'],\n",
    "['Logan',80,'London'],]\n",
    "\n",
    "with open('f2.csv','w',newline='') as c2:\n",
    "    writer=csv.writer(c2)\n",
    "    writer.writerows(data2)\n",
    "\n",
    "with open('merge.csv','w',newline='') as c:\n",
    "    writer=csv.writer(c)\n",
    "\n",
    "    with open('f1.csv','r') as f1:\n",
    "        reader1 = csv.reader(f1)\n",
    "        rows1 = list(reader1)\n",
    "        writer.writerow(rows1[0])  # Write header\n",
    "        writer.writerows(rows1[1:]) \n",
    "\n",
    "    with open('f2.csv','r') as f2:\n",
    "        reader2 = csv.reader(f2)\n",
    "        rows2 = list(reader2)\n",
    "        writer.writerows(rows2[1:])  # Skip header and write rest"
   ]
  },
  {
   "cell_type": "code",
   "execution_count": null,
   "id": "1cfe17ae",
   "metadata": {},
   "outputs": [],
   "source": [
    "with open('people.csv','r') as c:\n",
    "    reader=csv.DictReader()\n",
    "    print(list(reader))\n",
    "    for "
   ]
  },
  {
   "cell_type": "code",
   "execution_count": null,
   "id": "e8a60e8e",
   "metadata": {},
   "outputs": [
    {
     "ename": "AttributeError",
     "evalue": "module 'csv' has no attribute 'writerows'",
     "output_type": "error",
     "traceback": [
      "\u001b[1;31m---------------------------------------------------------------------------\u001b[0m",
      "\u001b[1;31mAttributeError\u001b[0m                            Traceback (most recent call last)",
      "Cell \u001b[1;32mIn[63], line 14\u001b[0m\n\u001b[0;32m     12\u001b[0m \u001b[38;5;28;01mwith\u001b[39;00m \u001b[38;5;28mopen\u001b[39m(\u001b[38;5;124m'\u001b[39m\u001b[38;5;124mtest.cv\u001b[39m\u001b[38;5;124m'\u001b[39m,\u001b[38;5;124m'\u001b[39m\u001b[38;5;124mw\u001b[39m\u001b[38;5;124m'\u001b[39m) \u001b[38;5;28;01mas\u001b[39;00m csvfile:\n\u001b[0;32m     13\u001b[0m     csvwriter\u001b[38;5;241m=\u001b[39mcsv\u001b[38;5;241m.\u001b[39mwriter(csvfile,dialect\u001b[38;5;241m=\u001b[39m\u001b[38;5;124m'\u001b[39m\u001b[38;5;124mexcel\u001b[39m\u001b[38;5;124m'\u001b[39m)\n\u001b[1;32m---> 14\u001b[0m     csvwriter\u001b[38;5;241m=\u001b[39mcsv\u001b[38;5;241m.\u001b[39mwriterows(fields)\n\u001b[0;32m     15\u001b[0m     csvwriter\u001b[38;5;241m=\u001b[39mcsv\u001b[38;5;241m.\u001b[39mwriterows(rows)\n",
      "\u001b[1;31mAttributeError\u001b[0m: module 'csv' has no attribute 'writerows'"
     ]
    }
   ],
   "source": [
    "import csv\n",
    "\n",
    "fields=['Name','Branch','Year','CGPA']\n",
    "\n",
    "rows=[['Nikhil','COE','2','9.8'],\n",
    "['Sanchit','COE','2','9.1'],\n",
    "['Aditya','IT','2','9.3'],\n",
    "['Sagar','SE','1','9.5'],\n",
    "['Prateek','MCE','3','7.8'],\n",
    "['Sahil','EP','2','9.1']]\n",
    "\n",
    "with open('test.cv','w') as csvfile:\n",
    "    csvwriter=csv.writer(csvfile,dialect='excel')\n",
    "    csvwriter=cs.writerow"
   ]
  },
  {
   "cell_type": "code",
   "execution_count": null,
   "id": "1fae9e95",
   "metadata": {},
   "outputs": [],
   "source": [
    "#YAML                                            #JSON\n",
    "\n",
    "#Cofiguration files, human readable             Data exchange in web apps and APIs\n",
    "#Highly readable                                Simple syntax, but can be less readabale\n",
    "#Uses indentation and whitespace                Uses curly braces and square brackets for structure\n",
    "#Supports comments                              Does not support comments\n",
    "#Supports more complex data types               Supports basic data types\n",
    "#YAML is a superset of JSON\n",
    "#sort_keys default value is true                sort_keys default value is false\n"
   ]
  },
  {
   "cell_type": "code",
   "execution_count": 66,
   "id": "434df162",
   "metadata": {},
   "outputs": [
    {
     "name": "stdout",
     "output_type": "stream",
     "text": [
      "{'Name': 'Desktop', 'Users': ['John', 'Max'], 'Version': 1.2}\n"
     ]
    }
   ],
   "source": [
    "import yaml\n",
    "\n",
    "data={\n",
    "    \"Name\":\"Desktop\",\n",
    "    \"Version\":1.2,\n",
    "    \"Users\":['John','Max']\n",
    "}\n",
    "\n",
    "with open('project.yaml','w') as w:\n",
    "    yaml.dump(data,w)\n",
    "\n",
    "with open('project.yaml','r') as r:\n",
    "    data=yaml.safe_load(r)\n",
    "    print(data)"
   ]
  },
  {
   "cell_type": "code",
   "execution_count": 84,
   "id": "abcc9679",
   "metadata": {},
   "outputs": [
    {
     "name": "stdout",
     "output_type": "stream",
     "text": [
      "['Night Gathers, and now my watch begins.\\n', 'And it shall not end until my death\\n', 'I am the sword in the darkness\\n', 'The Watcher on the Walls\\n', 'I am the shield that guards the realms of men']\n"
     ]
    },
    {
     "data": {
      "text/plain": [
       "37"
      ]
     },
     "execution_count": 84,
     "metadata": {},
     "output_type": "execute_result"
    }
   ],
   "source": [
    "#Count no. of words in a file\n",
    "\n",
    "with open('demo1.txt','r') as f:\n",
    "    l=list(f)\n",
    "    print(l)\n",
    "    sum=0\n",
    "    for i in l:\n",
    "        sum+=len(i.split())\n",
    "\n",
    "sum\n"
   ]
  },
  {
   "cell_type": "code",
   "execution_count": 92,
   "id": "49accf12",
   "metadata": {},
   "outputs": [
    {
     "name": "stdout",
     "output_type": "stream",
     "text": [
      "I am the sword in the darkness\n",
      "\n"
     ]
    }
   ],
   "source": [
    "#Search for a word in file\n",
    "w=input('Enter a word:')\n",
    "with open('demo1.txt','r') as f:\n",
    "    l=list(f)\n",
    "    for i in l:\n",
    "        if w in i:\n",
    "            print(i)"
   ]
  },
  {
   "cell_type": "code",
   "execution_count": null,
   "id": "a36138d5",
   "metadata": {},
   "outputs": [],
   "source": []
  }
 ],
 "metadata": {
  "kernelspec": {
   "display_name": "base",
   "language": "python",
   "name": "python3"
  },
  "language_info": {
   "codemirror_mode": {
    "name": "ipython",
    "version": 3
   },
   "file_extension": ".py",
   "mimetype": "text/x-python",
   "name": "python",
   "nbconvert_exporter": "python",
   "pygments_lexer": "ipython3",
   "version": "3.11.7"
  }
 },
 "nbformat": 4,
 "nbformat_minor": 5
}
